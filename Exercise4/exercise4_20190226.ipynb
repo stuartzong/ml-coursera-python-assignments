{
 "cells": [
  {
   "cell_type": "code",
   "execution_count": 9,
   "metadata": {},
   "outputs": [],
   "source": [
    "# used for manipulating directory paths\n",
    "import os\n",
    "\n",
    "# Scientific and vector computation for python\n",
    "import numpy as np\n",
    "\n",
    "# Plotting library\n",
    "from matplotlib import pyplot\n",
    "import matplotlib.pyplot as plt\n",
    "\n",
    "# Optimization module in scipy\n",
    "from scipy import optimize\n",
    "\n",
    "# will be used to load MATLAB mat datafile format\n",
    "from scipy.io import loadmat\n",
    "\n",
    "# library written for this exercise providing additional functions for assignment submission, and others\n",
    "import utils\n",
    "\n",
    "# define the submission/grader object for this exercise\n",
    "grader = utils.Grader()\n",
    "\n",
    "# tells matplotlib to embed plots within the notebook\n",
    "%matplotlib inline\n",
    "\n",
    "import seaborn as sns\n",
    "\n",
    "%matplotlib inline\n",
    "from IPython.core.interactiveshell import InteractiveShell\n",
    "InteractiveShell.ast_node_interactivity = \"all\""
   ]
  },
  {
   "cell_type": "markdown",
   "metadata": {},
   "source": [
    "### Introduction\n",
    "\n",
    "Here I am writing what I have learned in great nitty gritty details about neural networks deep learning. The contents are mostly based on Andrew Ng's machine learning course on Coursera (https://www.coursera.org/learn/machine-learning). I strongly believe that you need to implement algorithms such as feedforward, back propagation, gradient descend, and cost function yourself in order to truly understand the inner working of a neural network. I hope through this writing I will deepen my understanding of this topic and others may be able to pick up one insight or two.\n",
    "\n",
    "### Objective\n",
    "Here, I use a small subset of MNIST data set as examples and aim to build a simply neural network to recognize those hand-written digits. To really understand how neural network works, we must understand what forward pass and back propagation are doing. I believe the most effective way to gain the intuition is to implement the key steps such as the cost function, feed forwrad, back propagation process. \n",
    "\n",
    "### neural network model representation\n",
    "\n",
    "The neural network is shown in the following figure. Briefly, This simple neural network has 3 layers: input layer, hidden layer, and output layer\n",
    "* Input layer l1 has 401 units (400 image pixels + 1 bias). Input X dimension is (5000, 401). Each row are pixel gray scale values for a training example. Each column are pixels for a specific square in the 20x20 grid for all training examples.\n",
    "\n",
    "* Hidden layer l2 has 26 units (25 units derived from l1 + 1 bias). \n",
    "* Weight dimension for input layer is (25, 401). Each row are 401 weights for each input unit connecting to a specific unit in the hidden layer. Each column are weights for a specific input unit connecting to all units in hidden layer. \n",
    "\n",
    "* The output layer l3 has 10 units, with each unit representing the probability of being a hand-written number 0 to 9.\n",
    "\n",
    "* Weights dimension for hidden layer is (10, 26). Each row are  26 weights for each of the 26 units in hidden layer transforming into a specific unit in output layer. Each column are weights for a specific unit in hidden layer transforming into 10 units in the output layer.\n",
    "\n",
    "\n",
    "shapes of neural network variables:\n",
    "\n",
    "|Items|dimension_x|dimension_y|\n",
    "|------|------|------|\n",
    "|a1|\t5000|\t401|\n",
    "|theta1|\t26|\t401|\n",
    "|a2|\t5000|26\n",
    "|theta2|\t10|26|\n",
    "|a3\t|5000|10|\n",
    "|J|\t1||\t\t\n",
    "|d1|26||\n",
    "|d2|10||\n",
    "|theta1_grad|\t25|401|\n",
    "|theta2_grad|\t10|\t26|\n",
    "\n",
    "\n",
    "\n",
    "cost is the summation of all costs: costs of each training example to all k labels, and costs of all training examples\n",
    "\n",
    "\n",
    "![](Figures/neural_network.png)\n",
    "\n",
    "### forward pass\n",
    "The forward pass happens when we feed the input signal to the neural network and let it predict the 10 probabilities of the image being each of the 10 numbers. The input signal are values of 400 gray scale intensity of an hand-written image in this case. \n",
    "\n",
    "What really happens in forward pass is just some simple mathatical operations, namely matrix multiplication and activation. This a two-step process. First, we compute the weighted sum of all the units in previous layer for all the units in current layer.  Then we feed the sum into a activation function. In this case, we choose sigmoid function, which squashes the numbers into a value between 0 and 1. Ideally, we would be better off to use softmax function for the last layer so that the sum of all the probabilities is equal to 1. \n",
    "\n",
    "Let's get to the math behind.\n",
    "\n",
    "The implementation of forward pass can be as simple as a few lines of code. In below code snippet,  X is input; a2 is activation in hidden layer; a3 is activation in final output layer.\n",
    "    \n",
    "    a1 = np.concatenate([np.ones((X.shape[0], 1)), X], axis=1) # add bias to input matrix\n",
    "    a2 = sigmoid(a1 @ Theta1.T) # weight multiple input, and then apply activate function    \n",
    "    a2 = np.concatenate([np.ones((a2.shape[0], 1)), a2], axis=1) # add bias to activation in hidden layer\n",
    "    a3 = sigmoid(a2 @ Theta2.T) # weight multiple input, and then apply activate function\n",
    "\n",
    "### back propagation\n",
    "Back propagation is basically the opposite of forward pass. This process propagates the prediction error backward to each of the previous layers except the input layer so that we could compute the gradients for the weights and then finally update the weights in order to minimize the cost function.\n",
    "\n",
    "#### calculate deltas (prediction errors)\n",
    "We could think deltas as prediction errors. It is very straight forward to calculate the delta for the ouput layer (delta2). We have predicted probabilities and the true labels of all input images. Therefore, the error (delta2) is just simply the difference of these two vectors. Let's use one single training image as an example, in our case, predicted vector is the probabilities for each of the 10 numbers and the label is a one-hot encoded vector with 10 elements, which are all zeros except the elements corresponding to the label number. For instance, if the input image is 0, which is one-hot encoded as y, and the predictions is a vector (a3). Detla2 is a vector with shape (10,).\n",
    "\n",
    "$$ y = \n",
    "\\begin{bmatrix} 1 \\\\ 0 \\\\ 0 \\\\\\vdots \\\\ 0 \\end{bmatrix}, \\quad\n",
    "a3 = \n",
    "\\begin{bmatrix} 0.92 \\\\ 0.01 \\\\ 0.02 \\\\ \\vdots \\\\ 0 \\end{bmatrix}, \\quad \n",
    "delta2 = a3 - y =\n",
    "\\begin{bmatrix} -0.08 \\\\ 0.01 \\\\ 0.02 \\\\ \\vdots \\\\ 0 \\end{bmatrix}.\n",
    "$$\n",
    "\n",
    "delta2 can be computed as follow:\n",
    "\n",
    "    # a3 is the prediction; y is the label\n",
    "    delta2 = a3 - y # prediction error\n",
    "\n",
    "Now we need to back propagate the error from output layer into the hidden layer.The error of hidden layer (delta1) is the product of 2 components. One is the weighed sum of delta2 backward to hidden layer, and the other is the gradient of each activation in hidden layer. \n",
    "\n",
    "    \n",
    "    \n",
    "\n",
    "##### component 1: weighted sum of delta2 (WSD)\n",
    "For each unit in hidden layer, this can be calculated by computing the product of weights(W2) of the unit connecting to each of the 10 output units and the error in output layer (delta2). For example\n",
    "\n",
    "$$\n",
    "W2 = \n",
    "\\begin{bmatrix} -0.82 \\\\ 0.12 \\\\ -0.20 \\\\ \\vdots \\\\ 0 \\end{bmatrix}, \\quad\n",
    "delta2 = \n",
    "\\begin{bmatrix} -0.08 \\\\ 0.01 \\\\ 0.02 \\\\ \\vdots \\\\ 0 \\end{bmatrix}, \\quad\n",
    "weighted\\_sum = 0.0628 \n",
    "$$\n",
    "\n",
    "Weighted sum of delta2 can be computed as follow:\n",
    "    WSD = Theta2.T @ delta2 \n",
    "\n",
    "##### component 2: sigmoid gradient of activation (SGA)\n",
    "This is basically to compute the gradient of the activation for each unit in hidden layer. Let's use one training image to walk through the process. First, we compute the weighted sum by multiplying the input pixel values (400 + 1 bias) and their corresponding weights and summing them for each unit in hidden layer. Then we calculate the activation by applying sigmoid function to the weighted sums for each unit to squash them to values between 0 and 1. Lastly, We compute the derivative of the activation, which is just the product of activation and (1 - activation).\n",
    "\n",
    "Sigmoid function is given by this formula:\n",
    "$$\n",
    "\\sigma(z) = \\frac{1}{1 + e^{-z}} = \\frac{e^{z}}{e^{z} + 1}\n",
    "$$\n",
    "\n",
    "The gradient for the sigmoid function can be computed as following:\n",
    "$$\n",
    "\\sigma'(z) = \\frac{\\partial \\sigma}{\\partial z} = \\sigma(z)(1 - \\sigma(z))\n",
    "$$\n",
    "\n",
    "This code snippet shows how this can be accomplished:\n",
    "\n",
    "    # gradient for each activation in layer 2\n",
    "    SGA = sigmoidGradient(np.hstack((1, X1 @ Theta1.T)))\n",
    "    \n",
    "Then put the two component together:\n",
    "\n",
    "    delta1 = WSD * SGA\n",
    "\n",
    "\n",
    "##### compute the weight gradients\n",
    "To calculate the gradients, you basically just multiply the error in output layer (delta2) by the activations in its previous layer. To be more explicit, the error for the first unit in the output layer multiplying each of the 26 activations in the hidden layer gives the gradient for each weight corresponding to the first unit in the output layer. We repeat the calculations for errors of other remaining units.\n",
    "\n",
    "Similarly, we could multiply the error in hidden layer (delta1) by the activations in its previous layer (they are just input pixel values in this case since the previous layer is input layer) to calculate the gradients for weights connecting input layer and hidden layer (Theta1).\n",
    "\n",
    "We need to do this for all training examples (or a mini batch of training examples) and then calculate the average gradients, which we could use to update the Theta1 and Theta2 (weights).\n",
    "\n",
    "\n",
    "### Intutition of back propagation\n",
    "When a traning image forward passes the network and generates a prediction, the error between the prediction and real label can be calculated. In order for the network to learn and produce better prediction, the network needs to learn from this training process. Depending on how bad the prediction is, the network either has to dramatically adjust the weights or just fine tuning them. This is where the back propagation comes in play.\n",
    "\n",
    "How do the prediction errors affect the weight adjustment?\n",
    "Intuitively, the bigger the error, the deeper the adjustment needs to be made. Recall the weight adjustment (gradient) is the product of error and the gradient of the activation in the previous layer. So indeed the greater the error, the steeper adjustment we need to do for the weights.\n",
    "\n",
    "How do the activation values affect the weight adjustment?\n",
    "By looking at the sigmoid plot, We know that the gradient reaches a maximum of 0.25 when the activation is 0.5. The gradients gradually decline when the activation is moving away from 0.5 in both directions. So this is equivalent to say that we adjust the weights associated with an activation of 0.5 more when others being equal. This makes sense to me because 0.5 basically means that we are absolutely no idea if this unit is supposed to be activated or not. In the final output layer, 0.5 means the network thinks there is 50% chance the input image is belong to that class. Therefore, the network will make relative large adjust to weights associated with this node. On the other hand, if the activation is close to 1 or 0, it is very confident about the activation or prediction, the weights associated with this node only need to be fine tuned.\n",
    "\n",
    "How do the weights affect the adjustment of themselves?\n",
    "The gradient for a weight is the product of the error (delta) and the weight itself. So we do bigger adjustment for large weights if others being equal.   \n",
    "\n",
    "With these intuitions, It is easier to understand that neural network is capable of learning very complex patterns and mapping input to output with universal approximation. \n",
    "\n",
    "If you notice that I misunderstand something here, Please point out and constructively criticize. I appreciate your feedback.\n"
   ]
  },
  {
   "cell_type": "markdown",
   "metadata": {},
   "source": [
    "\n",
    "\n",
    "### some variables \n",
    "\n",
    "k: the number of labels/classes, in this case k=10, representing numbers between 0 and 9\n",
    "\n",
    "m: the number of training examples, in this case m=5000\n",
    "Theta1: weights for input layer\n",
    "Theta2: weights for hidden layer\n",
    "\n",
    "\n",
    "## nnCostFunction implementation notes:\n",
    "\n",
    "### 1) One-hot encoding of y:\n",
    "y_encode is also a 5000x10 matrix, each row is a encoded label for a training iage. If the label is 2, the 3rd element in the row is 1 and the rest 9 elements are all 0s.\n",
    "$$ y = \\begin{bmatrix} 0 & 0 & 1 & 0 \\cdots & 0 \\end{bmatrix}$$\n",
    "\n",
    "### 2) feedforwad outputs (activation of layer 3: a3): \n",
    "a3 is a 5000x10 matrix. Each row is a prediction for a training image. It shows the probability of being each number, 0 to 9. For instance, following y_hat means the predicted digit is 2 with 90% chance and is 0 with 10% probability.\n",
    "$$ y_{hat} = \\begin{bmatrix} 0.1 & 0 & 0.9 & 0 & \\cdots & 0 \\end{bmatrix}$$\n",
    "\n",
    "\n",
    "### 3) calculate the cost (loss),\n",
    "The cost function without regularization is:\n",
    "$$ J(\\theta) = \\frac{1}{m} \\sum_{i=1}^{m}\\sum_{k=1}^{K} \\left[ - y_k^{(i)} \\log \\left( \\left( h_\\theta \\left( x^{(i)} \\right) \\right)_k \\right) - \\left( 1 - y_k^{(i)} \\right) \\log \\left( 1 - \\left( h_\\theta \\left( x^{(i)} \\right) \\right)_k \\right) \\right]$$\n",
    "\n",
    "The cost function for neural networks with regularization is given by:\n",
    "$$ J(\\theta) = \\frac{1}{m} \\sum_{i=1}^{m}\\sum_{k=1}^{K} \\left[ - y_k^{(i)} \\log \\left( \\left( h_\\theta \\left( x^{(i)} \\right) \\right)_k \\right) - \\left( 1 - y_k^{(i)} \\right) \\log \\left( 1 - \\left( h_\\theta \\left( x^{(i)} \\right) \\right)_k \\right) \\right] + \\frac{\\lambda}{2 m} \\left[ \\sum_{j=1}^{25} \\sum_{k=1}^{400} \\left( \\Theta_{j,k}^{(1)} \\right)^2 + \\sum_{j=1}^{10} \\sum_{k=1}^{25} \\left( \\Theta_{j,k}^{(2)} \\right)^2 \\right] $$\n",
    "use the cost function formula? cost for every class and cost for every training image\n",
    "\n",
    "4) the dimensions do not look right, why does it still work?\n",
    "\n",
    "5) * is element_wise operation, not matrix multiplication @\n",
    "\n",
    "6) for the cost, we only need element-wise multiplication, what is the ituition. when we predicted the exact label at 100% confidence, the cost is 0. when we predict wrong label with 100% confidence, the cost is infinity.  \n",
    "\n",
    "Sigmoid function squashes input (a number) into a value, which is between 0 and 1. We use sigmoid function as activation function because we would like to constrain the activation. When it is close to 1, we are saying the unit is activated. When is close to 0, we are saying the unit is not activated.\n",
    "\n",
    "Sigmoid function is given by this formula:\n",
    "$$\n",
    "\\sigma(z) = \\frac{1}{1 + e^{-z}} = \\frac{e^{z}}{e^{z} + 1}\n",
    "$$\n",
    "\n",
    "The gradient for the sigmoid function can be computed as following:\n",
    "$$\n",
    "\\sigma'(z) = \\frac{\\partial \\sigma}{\\partial z} = \\sigma(z)(1 - \\sigma(z))\n",
    "$$\n",
    "\n",
    "The intuition is that the gradient of a sigmoid function is equal to the sigmoid function times 1 minus the sigmoid function iteself().\n",
    "\n",
    "\n",
    "\n",
    "Now complete the implementation of `sigmoidGradient` in the next cell.\n"
   ]
  },
  {
   "cell_type": "code",
   "execution_count": 51,
   "metadata": {},
   "outputs": [],
   "source": [
    "# neural network structure\n",
    "input_size  = 400  # 20x20 Input Images of Digits\n",
    "hidden_size = 25   # 25 hidden units\n",
    "num_labels = 10    # 10 labels, from 0 to 9"
   ]
  },
  {
   "cell_type": "code",
   "execution_count": 52,
   "metadata": {},
   "outputs": [
    {
     "data": {
      "text/plain": [
       "(5000, 400)"
      ]
     },
     "execution_count": 52,
     "metadata": {},
     "output_type": "execute_result"
    },
    {
     "data": {
      "text/plain": [
       "(5000,)"
      ]
     },
     "execution_count": 52,
     "metadata": {},
     "output_type": "execute_result"
    }
   ],
   "source": [
    "# training images\n",
    "data = np.loadtxt('MNIST_data.csv')\n",
    "X = data[:, :-1]\n",
    "y= data[:,-1]\n",
    "X.shape\n",
    "y.shape"
   ]
  },
  {
   "cell_type": "code",
   "execution_count": 53,
   "metadata": {},
   "outputs": [],
   "source": [
    "# each label needs to one-hot encoded into a vector with a shape of (10,)\n",
    "def one_hot(x):\n",
    "    y = np.zeros((x.shape[0], num_labels))\n",
    "    for i, j in enumerate(x.astype(int)):\n",
    "        y[i, j] = 1\n",
    "    return y"
   ]
  },
  {
   "cell_type": "markdown",
   "metadata": {},
   "source": [
    "### one-hot encode image labels (y)"
   ]
  },
  {
   "cell_type": "code",
   "execution_count": 54,
   "metadata": {},
   "outputs": [
    {
     "data": {
      "text/plain": [
       "array([0., 0.])"
      ]
     },
     "execution_count": 54,
     "metadata": {},
     "output_type": "execute_result"
    }
   ],
   "source": [
    "y_encode = one_hot(y)\n",
    "y[:2]"
   ]
  },
  {
   "cell_type": "code",
   "execution_count": 55,
   "metadata": {},
   "outputs": [
    {
     "data": {
      "text/plain": [
       "array([[1., 0., 0., ..., 0., 0., 0.],\n",
       "       [1., 0., 0., ..., 0., 0., 0.],\n",
       "       [1., 0., 0., ..., 0., 0., 0.],\n",
       "       ...,\n",
       "       [0., 0., 0., ..., 0., 0., 1.],\n",
       "       [0., 0., 0., ..., 0., 0., 1.],\n",
       "       [0., 0., 0., ..., 0., 0., 1.]])"
      ]
     },
     "execution_count": 55,
     "metadata": {},
     "output_type": "execute_result"
    }
   ],
   "source": [
    "y_encode"
   ]
  },
  {
   "cell_type": "code",
   "execution_count": 56,
   "metadata": {},
   "outputs": [
    {
     "data": {
      "text/plain": [
       "(10285,)"
      ]
     },
     "execution_count": 56,
     "metadata": {},
     "output_type": "execute_result"
    },
    {
     "data": {
      "text/plain": [
       "array([-2.25623899e-02, -1.05624163e-08])"
      ]
     },
     "execution_count": 56,
     "metadata": {},
     "output_type": "execute_result"
    }
   ],
   "source": [
    "# load weights previously learned\n",
    "nn_params = np.loadtxt('weights.csv')\n",
    "nn_params.shape\n",
    "nn_params[:2]"
   ]
  },
  {
   "cell_type": "code",
   "execution_count": 57,
   "metadata": {},
   "outputs": [
    {
     "data": {
      "text/plain": [
       "(25, 401)"
      ]
     },
     "execution_count": 57,
     "metadata": {},
     "output_type": "execute_result"
    },
    {
     "data": {
      "text/plain": [
       "(10, 26)"
      ]
     },
     "execution_count": 57,
     "metadata": {},
     "output_type": "execute_result"
    }
   ],
   "source": [
    "# Reshape nn_params back into the parameters Theta1 and Theta2\n",
    "Theta1 = nn_params[:((input_size+1) * hidden_size)].reshape(hidden_size,input_size+1)\n",
    "Theta2 = nn_params[((input_size +1)* hidden_size ):].reshape(num_labels,hidden_size+1)\n",
    "Theta1.shape\n",
    "Theta2.shape"
   ]
  },
  {
   "cell_type": "code",
   "execution_count": 13,
   "metadata": {},
   "outputs": [
    {
     "data": {
      "image/png": "[encoded data removed]",
      "text/plain": [
       "<Figure size 1080x360 with 6 Axes>"
      ]
     },
     "metadata": {},
     "output_type": "display_data"
    }
   ],
   "source": [
    "# look at some examples\n",
    "fig = plt.figure(figsize=(15, 5))\n",
    "axes = fig.subplots(1,3)\n",
    "for i in range(3):\n",
    "    _ = sns.heatmap(X[i,:].reshape(20,20), cmap='Greys', ax=axes[i])"
   ]
  },
  {
   "cell_type": "code",
   "execution_count": 524,
   "metadata": {},
   "outputs": [],
   "source": []
  },
  {
   "cell_type": "markdown",
   "metadata": {},
   "source": [
    "\n",
    "\n",
    "<a id=\"section1\"></a>\n",
    "### 1.3 Feedforward and cost function\n",
    "\n",
    "Now you will implement the cost function and gradient for the neural network. First, complete the code for the function `nnCostFunction` in the next cell to return the cost.\n",
    "\n",
    "Recall that the cost function for the neural network (without regularization) is:\n",
    "\n",
    "$$ J(\\theta) = \\frac{1}{m} \\sum_{i=1}^{m}\\sum_{k=1}^{K} \\left[ - y_k^{(i)} \\log \\left( \\left( h_\\theta \\left( x^{(i)} \\right) \\right)_k \\right) - \\left( 1 - y_k^{(i)} \\right) \\log \\left( 1 - \\left( h_\\theta \\left( x^{(i)} \\right) \\right)_k \\right) \\right]$$\n",
    "\n",
    "where $h_\\theta \\left( x^{(i)} \\right)$ is computed as shown in the neural network figure above, and K = 10 is the total number of possible labels. Note that $h_\\theta(x^{(i)})_k = a_k^{(3)}$ is the activation (output\n",
    "value) of the $k^{th}$ output unit. Also, recall that whereas the original labels (in the variable y) were 0, 1, ..., 9, for the purpose of training a neural network, we need to encode the labels as vectors containing only values 0 or 1, so that\n",
    "\n",
    "$$ y = \n",
    "\\begin{bmatrix} 1 \\\\ 0 \\\\ 0 \\\\\\vdots \\\\ 0 \\end{bmatrix}, \\quad\n",
    "\\begin{bmatrix} 0 \\\\ 1 \\\\ 0 \\\\ \\vdots \\\\ 0 \\end{bmatrix}, \\quad \\cdots  \\quad \\text{or} \\qquad\n",
    "\\begin{bmatrix} 0 \\\\ 0 \\\\ 0 \\\\ \\vdots \\\\ 1 \\end{bmatrix}.\n",
    "$$\n",
    "\n",
    "For example, if $x^{(i)}$ is an image of the digit 5, then the corresponding $y^{(i)}$ (that you should use with the cost function) should be a 10-dimensional vector with $y_5 = 1$, and the other elements equal to 0.\n",
    "\n",
    "You should implement the feedforward computation that computes $h_\\theta(x^{(i)})$ for every example $i$ and sum the cost over all examples. **Your code should also work for a dataset of any size, with any number of labels** (you can assume that there are always at least $K \\ge 3$ labels).\n",
    "\n",
    "<div class=\"alert alert-box alert-warning\">\n",
    "**Implementation Note:** The matrix $X$ contains the examples in rows (i.e., X[i,:] is the i-th training example $x^{(i)}$, expressed as a $n \\times 1$ vector.) When you complete the code in `nnCostFunction`, you will need to add the column of 1’s to the X matrix. The parameters for each unit in the neural network is represented in Theta1 and Theta2 as one row. Specifically, the first row of Theta1 corresponds to the first hidden unit in the second layer. You can use a for-loop over the examples to compute the cost.\n",
    "</div>\n",
    "<a id=\"nnCostFunction\"></a>"
   ]
  },
  {
   "cell_type": "markdown",
   "metadata": {},
   "source": []
  },
  {
   "cell_type": "code",
   "execution_count": null,
   "metadata": {},
   "outputs": [],
   "source": []
  },
  {
   "cell_type": "markdown",
   "metadata": {},
   "source": [
    "\n",
    "## nnCostFunction implementation notes:\n",
    "\n",
    "### 1) One-hot encoding of y:\n",
    "y_encode is also a 5000x10 matrix, each row is a encoded label for a training iage. If the label is 2, the 3rd element in the row is 1 and the rest 9 elements are all 0s.\n",
    "$$ y = \\begin{bmatrix} 0 & 0 & 1 & 0 \\cdots & 0 \\end{bmatrix}$$\n",
    "\n",
    "### 2) feedforwad outputs (activation of layer 3: a3): \n",
    "a3 is a 5000x10 matrix. Each row is a prediction for a training image. It shows the probability of being each number, 0 to 9. For instance, following y_hat means the predicted digit is 2 with 90% chance and is 0 with 10% probability.\n",
    "$$ y_{hat} = \\begin{bmatrix} 0.1 & 0 & 0.9 & 0 & \\cdots & 0 \\end{bmatrix}$$\n",
    "\n",
    "\n",
    "### 3) calculate the cost (loss),\n",
    "The cost function without regularization is:\n",
    "$$ J(\\theta) = \\frac{1}{m} \\sum_{i=1}^{m}\\sum_{k=1}^{K} \\left[ - y_k^{(i)} \\log \\left( \\left( h_\\theta \\left( x^{(i)} \\right) \\right)_k \\right) - \\left( 1 - y_k^{(i)} \\right) \\log \\left( 1 - \\left( h_\\theta \\left( x^{(i)} \\right) \\right)_k \\right) \\right]$$\n",
    "\n",
    "The cost function for neural networks with regularization is given by:\n",
    "$$ J(\\theta) = \\frac{1}{m} \\sum_{i=1}^{m}\\sum_{k=1}^{K} \\left[ - y_k^{(i)} \\log \\left( \\left( h_\\theta \\left( x^{(i)} \\right) \\right)_k \\right) - \\left( 1 - y_k^{(i)} \\right) \\log \\left( 1 - \\left( h_\\theta \\left( x^{(i)} \\right) \\right)_k \\right) \\right] + \\frac{\\lambda}{2 m} \\left[ \\sum_{j=1}^{25} \\sum_{k=1}^{400} \\left( \\Theta_{j,k}^{(1)} \\right)^2 + \\sum_{j=1}^{10} \\sum_{k=1}^{25} \\left( \\Theta_{j,k}^{(2)} \\right)^2 \\right] $$\n",
    "use the cost function formula? cost for every class and cost for every training image\n",
    "\n",
    "4) the dimensions do not look right, why does it still work?\n",
    "\n",
    "5) * is element_wise operation, not matrix multiplication @\n",
    "\n",
    "6) for the cost, we only need element-wise multiplication, what is the ituition. when we predicted the exact label at 100% confidence, the cost is 0. when we predict wrong label with 100% confidence, the cost is infinity.  "
   ]
  },
  {
   "cell_type": "markdown",
   "metadata": {},
   "source": [
    "## modify the implementation myself"
   ]
  },
  {
   "cell_type": "code",
   "execution_count": 58,
   "metadata": {},
   "outputs": [],
   "source": [
    "def sigmoid(z):\n",
    "    return 1/(1 + np.exp(-z))"
   ]
  },
  {
   "cell_type": "code",
   "execution_count": 59,
   "metadata": {},
   "outputs": [],
   "source": [
    "# this is simply applying sigmoid function to each element of matrix, and then for each element, times itself with (1-the element)\n",
    "def sigmoidGradient(z):\n",
    "    sig = sigmoid(z)    \n",
    "    return sig * (1-sig)"
   ]
  },
  {
   "cell_type": "markdown",
   "metadata": {},
   "source": [
    "### sigmoidGradient peaks when activation is 0.5"
   ]
  },
  {
   "cell_type": "code",
   "execution_count": 124,
   "metadata": {},
   "outputs": [
    {
     "name": "stdout",
     "output_type": "stream",
     "text": [
      "g is [1.92874985e-22 2.13181162e-22 2.35625206e-22 2.60432193e-22\n",
      " 2.87850898e-22 3.18156288e-22 3.51652275e-22 3.88674772e-22\n",
      " 4.29595055e-22 4.74823489e-22 5.24813642e-22 5.80066837e-22\n",
      " 6.41137173e-22 7.08637090e-22 7.83243502e-22 8.65704593e-22\n",
      " 9.56847315e-22 1.05758568e-21 1.16892995e-21 1.29199670e-21\n",
      " 1.42802012e-21 1.57836430e-21 1.74453694e-21 1.92820449e-21\n",
      " 2.13120885e-21 2.35558583e-21 2.60358556e-21 2.87769508e-21\n",
      " 3.18066329e-21 3.51552845e-21 3.88564874e-21 4.29473587e-21\n",
      " 4.74689232e-21 5.24665251e-21 5.79902823e-21 6.40955891e-21\n",
      " 7.08436722e-21 7.83022039e-21 8.65459814e-21 9.56576766e-21\n",
      " 1.05728665e-20 1.16859943e-20 1.29163139e-20 1.42761635e-20\n",
      " 1.57791801e-20 1.74404367e-20 1.92765929e-20 2.13060625e-20\n",
      " 2.35491978e-20 2.60284939e-20 2.87688141e-20 3.17976395e-20\n",
      " 3.51453443e-20 3.88455007e-20 4.29352153e-20 4.74555014e-20\n",
      " 5.24516902e-20 5.79738855e-20 6.40774661e-20 7.08236411e-20\n",
      " 7.82800639e-20 8.65215105e-20 9.56306293e-20 1.05698770e-19\n",
      " 1.16826901e-19 1.29126618e-19 1.42721269e-19 1.57747185e-19\n",
      " 1.74355054e-19 1.92711424e-19 2.13000382e-19 2.35425393e-19\n",
      " 2.60211343e-19 2.87606797e-19 3.17886487e-19 3.51354070e-19\n",
      " 3.88345171e-19 4.29230753e-19 4.74420833e-19 5.24368594e-19\n",
      " 5.79574933e-19 6.40593481e-19 7.08036157e-19 7.82579302e-19\n",
      " 8.64970465e-19 9.56035897e-19 1.05668884e-18 1.16793868e-18\n",
      " 1.29090108e-18 1.42680914e-18 1.57702582e-18 1.74305755e-18\n",
      " 1.92656935e-18 2.12940156e-18 2.35358826e-18 2.60137768e-18\n",
      " 2.87525476e-18 3.17796604e-18 3.51254724e-18 3.88235366e-18\n",
      " 4.29109388e-18 4.74286690e-18 5.24220328e-18 5.79411058e-18\n",
      " 6.40412353e-18 7.07835959e-18 7.82358027e-18 8.64725894e-18\n",
      " 9.55765577e-18 1.05639006e-17 1.16760844e-17 1.29053607e-17\n",
      " 1.42640571e-17 1.57657992e-17 1.74256470e-17 1.92602461e-17\n",
      " 2.12879947e-17 2.35292278e-17 2.60064214e-17 2.87444178e-17\n",
      " 3.17706747e-17 3.51155406e-17 3.88125592e-17 4.28988057e-17\n",
      " 4.74152585e-17 5.24072105e-17 5.79247229e-17 6.40231276e-17\n",
      " 7.07635818e-17 7.82136814e-17 8.64481392e-17 9.55495334e-17\n",
      " 1.05609136e-16 1.16727830e-16 1.29017117e-16 1.42600239e-16\n",
      " 1.57613414e-16 1.74207199e-16 1.92548003e-16 2.12819755e-16\n",
      " 2.35225749e-16 2.59990681e-16 2.87362903e-16 3.17616915e-16\n",
      " 3.51056117e-16 3.88015850e-16 4.28866760e-16 4.74018518e-16\n",
      " 5.23923923e-16 5.79083446e-16 6.40050250e-16 7.07435733e-16\n",
      " 7.81915665e-16 8.64236959e-16 9.55225167e-16 1.05579275e-15\n",
      " 1.16694825e-15 1.28980638e-15 1.42559919e-15 1.57568849e-15\n",
      " 1.74157941e-15 1.92493560e-15 2.12759580e-15 2.35159239e-15\n",
      " 2.59917168e-15 2.87281651e-15 3.17527109e-15 3.50956856e-15\n",
      " 3.87906138e-15 4.28745498e-15 4.73884489e-15 5.23775783e-15\n",
      " 5.78919710e-15 6.39869275e-15 7.07235705e-15 7.81694578e-15\n",
      " 8.63992595e-15 9.54955076e-15 1.05549423e-14 1.16661830e-14\n",
      " 1.28944168e-14 1.42519610e-14 1.57524296e-14 1.74108698e-14\n",
      " 1.92439132e-14 2.12699422e-14 2.35092748e-14 2.59843677e-14\n",
      " 2.87200422e-14 3.17437328e-14 3.50857622e-14 3.87796457e-14\n",
      " 4.28624270e-14 4.73750498e-14 5.23627685e-14 5.78756020e-14\n",
      " 6.39688352e-14 7.07035734e-14 7.81473553e-14 8.63748301e-14\n",
      " 9.54685062e-14 1.05519579e-13 1.16628844e-13 1.28907709e-13\n",
      " 1.42479313e-13 1.57479756e-13 1.74059469e-13 1.92384720e-13\n",
      " 2.12639281e-13 2.35026275e-13 2.59770206e-13 2.87119216e-13\n",
      " 3.17347572e-13 3.50758417e-13 3.87686807e-13 4.28503076e-13\n",
      " 4.73616545e-13 5.23479629e-13 5.78592377e-13 6.39507480e-13\n",
      " 7.06835819e-13 7.81252591e-13 8.63504075e-13 9.54415124e-13\n",
      " 1.05489743e-12 1.16595867e-12 1.28871260e-12 1.42439027e-12\n",
      " 1.57435228e-12 1.74010253e-12 1.92330323e-12 2.12579158e-12\n",
      " 2.34959821e-12 2.59696755e-12 2.87038033e-12 3.17257842e-12\n",
      " 3.50659240e-12 3.87577189e-12 4.28381916e-12 4.73482629e-12\n",
      " 5.23331615e-12 5.78428779e-12 6.39326658e-12 7.06635961e-12\n",
      " 7.81031691e-12 8.63259919e-12 9.54145262e-12 1.05459916e-11\n",
      " 1.16562899e-11 1.28834822e-11 1.42398752e-11 1.57390713e-11\n",
      " 1.73961052e-11 1.92275941e-11 2.12519051e-11 2.34893386e-11\n",
      " 2.59623326e-11 2.86956873e-11 3.17168137e-11 3.50560091e-11\n",
      " 3.87467601e-11 4.28260791e-11 4.73348752e-11 5.23183642e-11\n",
      " 5.78265228e-11 6.39145888e-11 7.06436159e-11 7.80810854e-11\n",
      " 8.63015831e-11 9.53875477e-11 1.05430097e-10 1.16529941e-10\n",
      " 1.28798394e-10 1.42358488e-10 1.57346211e-10 1.73911864e-10\n",
      " 1.92221575e-10 2.12458961e-10 2.34826970e-10 2.59549917e-10\n",
      " 2.86875735e-10 3.17078458e-10 3.50460969e-10 3.87358044e-10\n",
      " 4.28139700e-10 4.73214911e-10 5.23035711e-10 5.78101722e-10\n",
      " 6.38965168e-10 7.06236413e-10 7.80590078e-10 8.62771812e-10\n",
      " 9.53605766e-10 1.05400286e-09 1.16496992e-09 1.28761976e-09\n",
      " 1.42318236e-09 1.57301721e-09 1.73862690e-09 1.92167224e-09\n",
      " 2.12398887e-09 2.34760571e-09 2.59476528e-09 2.86794619e-09\n",
      " 3.16988802e-09 3.50361874e-09 3.87248515e-09 4.28018640e-09\n",
      " 4.73081106e-09 5.22887818e-09 5.77938258e-09 6.38784493e-09\n",
      " 7.06036715e-09 7.80369354e-09 8.62527849e-09 9.53336117e-09\n",
      " 1.05370482e-08 1.16464050e-08 1.28725565e-08 1.42277992e-08\n",
      " 1.57257239e-08 1.73813525e-08 1.92112882e-08 2.12338823e-08\n",
      " 2.34694182e-08 2.59403149e-08 2.86713513e-08 3.16899155e-08\n",
      " 3.50262787e-08 3.87138994e-08 4.27897584e-08 4.72947301e-08\n",
      " 5.22739922e-08 5.77774785e-08 6.38603803e-08 7.05836993e-08\n",
      " 7.80148595e-08 8.62283835e-08 9.53066397e-08 1.05340669e-07\n",
      " 1.16431095e-07 1.28689138e-07 1.42237726e-07 1.57212730e-07\n",
      " 1.73764324e-07 1.92058495e-07 2.12278703e-07 2.34627723e-07\n",
      " 2.59329681e-07 2.86632297e-07 3.16809371e-07 3.50163529e-07\n",
      " 3.87029260e-07 4.27776266e-07 4.72813173e-07 5.22591625e-07\n",
      " 5.77610818e-07 6.38422504e-07 7.05636521e-07 7.79926912e-07\n",
      " 8.62038686e-07 9.52795283e-07 1.05310684e-06 1.16397930e-06\n",
      " 1.28652453e-06 1.42197145e-06 1.57167833e-06 1.73714649e-06\n",
      " 1.92003527e-06 2.12217870e-06 2.34560392e-06 2.59255146e-06\n",
      " 2.86549773e-06 3.16717987e-06 3.50062315e-06 3.86917133e-06\n",
      " 4.27652020e-06 4.72675463e-06 5.22438949e-06 5.77441497e-06\n",
      " 6.38234657e-06 7.05428044e-06 7.79695445e-06 8.61781576e-06\n",
      " 9.52509549e-06 1.05278912e-05 1.16362581e-05 1.28613099e-05\n",
      " 1.42153301e-05 1.57118951e-05 1.73660103e-05 1.91942606e-05\n",
      " 2.12149764e-05 2.34484173e-05 2.59169751e-05 2.86453981e-05\n",
      " 3.16610390e-05 3.49941290e-05 3.86780802e-05 4.27498203e-05\n",
      " 4.72501624e-05 5.22242132e-05 5.77218246e-05 6.37980924e-05\n",
      " 7.05139072e-05 7.79365635e-05 8.61404321e-05 9.52077034e-05\n",
      " 1.05229208e-04 1.16305325e-04 1.28546982e-04 1.42076761e-04\n",
      " 1.57030125e-04 1.73556760e-04 1.91822074e-04 2.12008835e-04\n",
      " 2.34318991e-04 2.58975677e-04 2.86225426e-04 3.16340612e-04\n",
      " 3.49622146e-04 3.86402452e-04 4.27048741e-04 4.71966637e-04\n",
      " 5.21604154e-04 5.76456101e-04 6.37068919e-04 7.04046017e-04\n",
      " 7.78053645e-04 8.59827359e-04 9.50179134e-04 1.05000518e-03\n",
      " 1.16029454e-03 1.28213852e-03 1.41674105e-03 1.56543006e-03\n",
      " 1.72966989e-03 1.91107492e-03 2.11142450e-03 2.33267915e-03\n",
      " 2.57699834e-03 2.84675980e-03 3.14458048e-03 3.47333932e-03\n",
      " 3.83620191e-03 4.23664706e-03 4.67849547e-03 5.16594036e-03\n",
      " 5.70358038e-03 6.29645443e-03 6.95007865e-03 7.67048521e-03\n",
      " 8.46426287e-03 9.33859892e-03 1.03013220e-02 1.13609455e-02\n",
      " 1.25267104e-02 1.38086267e-02 1.52175126e-02 1.67650289e-02\n",
      " 1.84637079e-02 2.03269736e-02 2.23691501e-02 2.46054561e-02\n",
      " 2.70519797e-02 2.97256309e-02 3.26440640e-02 3.58255659e-02\n",
      " 3.92889021e-02 4.30531137e-02 4.71372567e-02 5.15600757e-02\n",
      " 5.63396037e-02 6.14926796e-02 6.70343772e-02 7.29773399e-02\n",
      " 7.93310199e-02 8.61008233e-02 9.32871678e-02 1.00884468e-01\n",
      " 1.08880071e-01 1.17253169e-01 1.25973746e-01 1.35001593e-01\n",
      " 1.44285469e-01 1.53762489e-01 1.63357801e-01 1.72984657e-01\n",
      " 1.82544942e-01 1.91930240e-01 2.01023485e-01 2.09701205e-01\n",
      " 2.17836353e-01 2.25301655e-01 2.31973363e-01 2.37735251e-01\n",
      " 2.42482670e-01 2.46126420e-01 2.48596211e-01 2.49843502e-01\n",
      " 2.49843502e-01 2.48596211e-01 2.46126420e-01 2.42482670e-01\n",
      " 2.37735251e-01 2.31973363e-01 2.25301655e-01 2.17836353e-01\n",
      " 2.09701205e-01 2.01023485e-01 1.91930240e-01 1.82544942e-01\n",
      " 1.72984657e-01 1.63357801e-01 1.53762489e-01 1.44285469e-01\n",
      " 1.35001593e-01 1.25973746e-01 1.17253169e-01 1.08880071e-01\n",
      " 1.00884468e-01 9.32871678e-02 8.61008233e-02 7.93310199e-02\n",
      " 7.29773399e-02 6.70343772e-02 6.14926796e-02 5.63396037e-02\n",
      " 5.15600757e-02 4.71372567e-02 4.30531137e-02 3.92889021e-02\n",
      " 3.58255659e-02 3.26440640e-02 2.97256309e-02 2.70519797e-02\n",
      " 2.46054561e-02 2.23691501e-02 2.03269736e-02 1.84637079e-02\n",
      " 1.67650289e-02 1.52175126e-02 1.38086267e-02 1.25267104e-02\n",
      " 1.13609455e-02 1.03013220e-02 9.33859892e-03 8.46426287e-03\n",
      " 7.67048521e-03 6.95007865e-03 6.29645443e-03 5.70358038e-03\n",
      " 5.16594036e-03 4.67849547e-03 4.23664706e-03 3.83620191e-03\n",
      " 3.47333932e-03 3.14458048e-03 2.84675980e-03 2.57699834e-03\n",
      " 2.33267915e-03 2.11142450e-03 1.91107492e-03 1.72966989e-03\n",
      " 1.56543006e-03 1.41674105e-03 1.28213852e-03 1.16029454e-03\n",
      " 1.05000518e-03 9.50179134e-04 8.59827359e-04 7.78053645e-04\n",
      " 7.04046017e-04 6.37068919e-04 5.76456101e-04 5.21604154e-04\n",
      " 4.71966637e-04 4.27048741e-04 3.86402452e-04 3.49622146e-04\n",
      " 3.16340612e-04 2.86225426e-04 2.58975677e-04 2.34318991e-04\n",
      " 2.12008835e-04 1.91822074e-04 1.73556760e-04 1.57030125e-04\n",
      " 1.42076761e-04 1.28546982e-04 1.16305325e-04 1.05229208e-04\n",
      " 9.52077034e-05 8.61404321e-05 7.79365635e-05 7.05139072e-05\n",
      " 6.37980924e-05 5.77218246e-05 5.22242132e-05 4.72501624e-05\n",
      " 4.27498203e-05 3.86780802e-05 3.49941290e-05 3.16610390e-05\n",
      " 2.86453981e-05 2.59169751e-05 2.34484173e-05 2.12149764e-05\n",
      " 1.91942606e-05 1.73660103e-05 1.57118951e-05 1.42153301e-05\n",
      " 1.28613099e-05 1.16362581e-05 1.05278912e-05 9.52509549e-06\n",
      " 8.61781576e-06 7.79695445e-06 7.05428044e-06 6.38234657e-06\n",
      " 5.77441497e-06 5.22438949e-06 4.72675463e-06 4.27652020e-06\n",
      " 3.86917133e-06 3.50062315e-06 3.16717987e-06 2.86549773e-06\n",
      " 2.59255146e-06 2.34560392e-06 2.12217870e-06 1.92003527e-06\n",
      " 1.73714649e-06 1.57167833e-06 1.42197145e-06 1.28652453e-06\n",
      " 1.16397930e-06 1.05310684e-06 9.52795283e-07 8.62038686e-07\n",
      " 7.79926912e-07 7.05636521e-07 6.38422504e-07 5.77610818e-07\n",
      " 5.22591625e-07 4.72813173e-07 4.27776266e-07 3.87029260e-07\n",
      " 3.50163529e-07 3.16809371e-07 2.86632297e-07 2.59329681e-07\n",
      " 2.34627723e-07 2.12278703e-07 1.92058495e-07 1.73764324e-07\n",
      " 1.57212730e-07 1.42237726e-07 1.28689138e-07 1.16431095e-07\n",
      " 1.05340668e-07 9.53066397e-08 8.62283835e-08 7.80148595e-08\n",
      " 7.05836993e-08 6.38603803e-08 5.77774786e-08 5.22739921e-08\n",
      " 4.72947301e-08 4.27897586e-08 3.87138994e-08 3.50262788e-08\n",
      " 3.16899156e-08 2.86713515e-08 2.59403148e-08 2.34694182e-08\n",
      " 2.12338822e-08 1.92112881e-08 1.73813524e-08 1.57257240e-08\n",
      " 1.42277992e-08 1.28725565e-08 1.16464049e-08 1.05370481e-08\n",
      " 9.53336123e-09 8.62527853e-09 7.80369352e-09 7.06036713e-09\n",
      " 6.38784488e-09 5.77938272e-09 5.22887819e-09 4.73081105e-09\n",
      " 4.28018641e-09 3.87248521e-09 3.50361872e-09 3.16988812e-09\n",
      " 2.86794609e-09 2.59476528e-09 2.34760566e-09 2.12398898e-09\n",
      " 1.92167215e-09 1.73862680e-09 1.57301727e-09 1.42318246e-09\n",
      " 1.28761979e-09 1.16496990e-09 1.05400288e-09 9.53605860e-10\n",
      " 8.62771853e-10 7.80590036e-10 7.06236402e-10 6.38965103e-10\n",
      " 5.78101788e-10 5.23035615e-10 4.73215022e-10 4.28139746e-10\n",
      " 3.87358145e-10 3.50460993e-10 3.17078363e-10 2.86875634e-10\n",
      " 2.59549937e-10 2.34827047e-10 2.12458939e-10 1.92221572e-10\n",
      " 1.73911774e-10 1.57346136e-10 1.42358569e-10 1.28798305e-10\n",
      " 1.16529897e-10 1.05430109e-10 9.53874757e-11 8.63016325e-11\n",
      " 7.80810971e-11 7.06437131e-11 6.39146513e-11 5.78266324e-11\n",
      " 5.23183719e-11 4.73348027e-11 4.28261870e-11 3.87467836e-11\n",
      " 3.50559581e-11 3.17168514e-11 2.86957125e-11 2.59623434e-11\n",
      " 2.34894326e-11 2.12518891e-11 1.92275085e-11 1.73960846e-11\n",
      " 1.57389657e-11 1.42399426e-11 1.28834721e-11 1.16562315e-11\n",
      " 1.05460085e-11 9.54147872e-12 8.63265015e-12 7.81041898e-12\n",
      " 7.06634751e-12 6.39333031e-12 5.78426196e-12 5.23336929e-12\n",
      " 4.73487916e-12 4.28390656e-12 3.87578858e-12 3.50652840e-12\n",
      " 3.17257332e-12 2.87037061e-12 2.59703370e-12 2.34967601e-12\n",
      " 2.12585505e-12 1.92335037e-12 1.74016357e-12 1.57429625e-12\n",
      " 1.42441614e-12 1.28874689e-12 1.16595622e-12 1.05493392e-12\n",
      " 9.54347712e-13 8.63531469e-13 7.81152920e-13 7.06767977e-13\n",
      " 6.39488462e-13 5.78648240e-13 5.23581178e-13 4.73621142e-13\n",
      " 4.28546088e-13 3.87689880e-13 3.50830476e-13 3.17301740e-13\n",
      " 2.87103674e-13 2.59792188e-13 2.34923192e-13 2.12718732e-13\n",
      " 1.92290628e-13 1.74082970e-13 1.57429625e-13 1.42552636e-13\n",
      " 1.29007915e-13 1.16573418e-13 1.05471187e-13 9.54791801e-14\n",
      " 8.63753513e-14 7.81597009e-14 7.06101844e-14 6.39488462e-14\n",
      " 5.79536419e-14 5.24025268e-14 4.72955008e-14 4.28546088e-14\n",
      " 3.88578059e-14 3.50830476e-14 3.17523785e-14 2.86437540e-14\n",
      " 2.59792188e-14 2.35367281e-14 2.13162821e-14 1.93178806e-14\n",
      " 1.73194792e-14 1.57651669e-14 1.42108547e-14 1.28785871e-14\n",
      " 1.17683641e-14 1.06581410e-14 9.54791801e-15 8.65973959e-15\n",
      " 7.77156117e-15 7.10542736e-15 6.43929354e-15 5.77315973e-15\n",
      " 5.32907052e-15 4.66293670e-15 4.21884749e-15 3.77475828e-15\n",
      " 3.55271368e-15 3.10862447e-15 2.88657986e-15 2.66453526e-15\n",
      " 2.44249065e-15 2.22044605e-15 1.99840144e-15 1.77635684e-15\n",
      " 1.55431223e-15 1.33226763e-15 1.33226763e-15 1.11022302e-15\n",
      " 1.11022302e-15 8.88178420e-16 8.88178420e-16 8.88178420e-16\n",
      " 6.66133815e-16 6.66133815e-16 6.66133815e-16 4.44089210e-16\n",
      " 4.44089210e-16 4.44089210e-16 4.44089210e-16 4.44089210e-16\n",
      " 2.22044605e-16 2.22044605e-16 2.22044605e-16 2.22044605e-16\n",
      " 2.22044605e-16 2.22044605e-16 2.22044605e-16 2.22044605e-16\n",
      " 2.22044605e-16 2.22044605e-16 2.22044605e-16 0.00000000e+00\n",
      " 0.00000000e+00 0.00000000e+00 0.00000000e+00 0.00000000e+00\n",
      " 0.00000000e+00 0.00000000e+00 0.00000000e+00 0.00000000e+00\n",
      " 0.00000000e+00 0.00000000e+00 0.00000000e+00 0.00000000e+00\n",
      " 0.00000000e+00 0.00000000e+00 0.00000000e+00 0.00000000e+00\n",
      " 0.00000000e+00 0.00000000e+00 0.00000000e+00 0.00000000e+00\n",
      " 0.00000000e+00 0.00000000e+00 0.00000000e+00 0.00000000e+00\n",
      " 0.00000000e+00 0.00000000e+00 0.00000000e+00 0.00000000e+00\n",
      " 0.00000000e+00 0.00000000e+00 0.00000000e+00 0.00000000e+00\n",
      " 0.00000000e+00 0.00000000e+00 0.00000000e+00 0.00000000e+00\n",
      " 0.00000000e+00 0.00000000e+00 0.00000000e+00 0.00000000e+00\n",
      " 0.00000000e+00 0.00000000e+00 0.00000000e+00 0.00000000e+00\n",
      " 0.00000000e+00 0.00000000e+00 0.00000000e+00 0.00000000e+00\n",
      " 0.00000000e+00 0.00000000e+00 0.00000000e+00 0.00000000e+00\n",
      " 0.00000000e+00 0.00000000e+00 0.00000000e+00 0.00000000e+00\n",
      " 0.00000000e+00 0.00000000e+00 0.00000000e+00 0.00000000e+00\n",
      " 0.00000000e+00 0.00000000e+00 0.00000000e+00 0.00000000e+00\n",
      " 0.00000000e+00 0.00000000e+00 0.00000000e+00 0.00000000e+00\n",
      " 0.00000000e+00 0.00000000e+00 0.00000000e+00 0.00000000e+00\n",
      " 0.00000000e+00 0.00000000e+00 0.00000000e+00 0.00000000e+00\n",
      " 0.00000000e+00 0.00000000e+00 0.00000000e+00 0.00000000e+00\n",
      " 0.00000000e+00 0.00000000e+00 0.00000000e+00 0.00000000e+00\n",
      " 0.00000000e+00 0.00000000e+00 0.00000000e+00 0.00000000e+00\n",
      " 0.00000000e+00 0.00000000e+00 0.00000000e+00 0.00000000e+00\n",
      " 0.00000000e+00 0.00000000e+00 0.00000000e+00 0.00000000e+00\n",
      " 0.00000000e+00 0.00000000e+00 0.00000000e+00 0.00000000e+00\n",
      " 0.00000000e+00 0.00000000e+00 0.00000000e+00 0.00000000e+00\n",
      " 0.00000000e+00 0.00000000e+00 0.00000000e+00 0.00000000e+00\n",
      " 0.00000000e+00 0.00000000e+00 0.00000000e+00 0.00000000e+00\n",
      " 0.00000000e+00 0.00000000e+00 0.00000000e+00 0.00000000e+00\n",
      " 0.00000000e+00 0.00000000e+00 0.00000000e+00 0.00000000e+00\n",
      " 0.00000000e+00 0.00000000e+00 0.00000000e+00 0.00000000e+00\n",
      " 0.00000000e+00 0.00000000e+00 0.00000000e+00 0.00000000e+00\n",
      " 0.00000000e+00 0.00000000e+00 0.00000000e+00 0.00000000e+00]\n"
     ]
    },
    {
     "data": {
      "text/plain": [
       "<matplotlib.collections.PathCollection at 0x7efd06288a58>"
      ]
     },
     "execution_count": 124,
     "metadata": {},
     "output_type": "execute_result"
    },
    {
     "data": {
      "image/png": "[encoded data removed]",
      "text/plain": [
       "<Figure size 432x288 with 1 Axes>"
      ]
     },
     "metadata": {},
     "output_type": "display_data"
    }
   ],
   "source": [
    "# to compute sigmoidGradient, squash the number to sig first,\n",
    "# and then calculate sig * (1 - sig)\n",
    "# the greater the activation, the higher the gradient\n",
    "a = np.linspace(-50,50,1000)\n",
    "plt.scatter(a, sigmoidGradient(a), s=5)\n",
    "plt.savefig('sigmoidGradient@2x.png', dpi=300)"
   ]
  },
  {
   "cell_type": "code",
   "execution_count": 61,
   "metadata": {},
   "outputs": [],
   "source": [
    "def forward_pass(Theta1, Theta2, X, y):   \n",
    "#     m = X.shape[0]\n",
    "    # feedforward to produce the prediction output\n",
    "    # a1(X):input layer, a2 hidden layer activation, a3 output layer\n",
    "    bias1 = np.ones((X.shape[0], 1))\n",
    "    a1 = np.concatenate([bias1, X], axis=1) \n",
    "    a2 = sigmoid(a1 @ Theta1.T)\n",
    "    \n",
    "    bias2 = np.ones((a2.shape[0], 1))\n",
    "    a2 = np.concatenate([bias2, a2], axis=1)\n",
    "    a3 = sigmoid(a2 @ Theta2.T) # output layer\n",
    " \n",
    "    return (a1, a2, a3)"
   ]
  },
  {
   "cell_type": "code",
   "execution_count": 122,
   "metadata": {},
   "outputs": [],
   "source": [
    "def compute_costs_loop(Theta1, Theta2, num_labels, X, y, lambda_):     \n",
    "    m = X.shape[0]\n",
    "    J = 0\n",
    "    a1, a2, a3 = forward_pass(Theta1, Theta2, X, y)\n",
    "    # compute cost for each output unit (class)\n",
    "    for j in range(num_labels):\n",
    "        Jj = sum(-y[:,j] * np.log(a3[:,j]) - (1-y[:,j])*np.log(1-a3[:,j]))\n",
    "        print(y[:,j].shape)\n",
    "        J += Jj \n",
    "        print(f'compute cost for {j}', Jj)\n",
    "    \n",
    "    J = 1/m * J\n",
    "    reg_J = J + lambda_/(2*m) * (np.sum(Theta1[:,1:]**2) + np.sum(Theta2[:,1:]**2))\n",
    "    return (J, reg_J)"
   ]
  },
  {
   "cell_type": "code",
   "execution_count": 109,
   "metadata": {},
   "outputs": [],
   "source": [
    "def compute_costs_vectorized(Theta1, Theta2, num_labels, X, y, lambda_):     \n",
    "    m = X.shape[0]\n",
    "    J = 0\n",
    "    a1, a2, a3 = forward_pass(Theta1, Theta2, X, y)\n",
    "    # below is vectorized J implementation\n",
    "    J = np.sum(-y * np.log(a3) - (1 - y) * np.log(1 - (a3)))\n",
    "  \n",
    "    J = 1/m * J\n",
    "    reg_J = J + lambda_/(2*m) * (np.sum(Theta1[:,1:]**2) + np.sum(Theta2[:,1:]**2))\n",
    "    return (J, reg_J)"
   ]
  },
  {
   "cell_type": "code",
   "execution_count": 94,
   "metadata": {},
   "outputs": [
    {
     "data": {
      "text/plain": [
       "0.2876291651613189"
      ]
     },
     "execution_count": 94,
     "metadata": {},
     "output_type": "execute_result"
    },
    {
     "data": {
      "text/plain": [
       "0.2876291651613189"
      ]
     },
     "execution_count": 94,
     "metadata": {},
     "output_type": "execute_result"
    }
   ],
   "source": [
    "J, reg_J = compute_costs_vectorized(Theta1, Theta2, num_labels, X, y_encode, lambda_=0.0)\n",
    "J\n",
    "reg_J"
   ]
  },
  {
   "cell_type": "code",
   "execution_count": 123,
   "metadata": {},
   "outputs": [
    {
     "name": "stdout",
     "output_type": "stream",
     "text": [
      "(5000,)\n",
      "compute cost for 0 71.85847553673608\n",
      "(5000,)\n",
      "compute cost for 1 105.77238482303046\n",
      "(5000,)\n",
      "compute cost for 2 151.13409896391363\n",
      "(5000,)\n",
      "compute cost for 3 197.31569852900847\n",
      "(5000,)\n",
      "compute cost for 4 148.61622965727082\n",
      "(5000,)\n",
      "compute cost for 5 149.92213260735022\n",
      "(5000,)\n",
      "compute cost for 6 101.33146796645212\n",
      "(5000,)\n",
      "compute cost for 7 141.14000796503075\n",
      "(5000,)\n",
      "compute cost for 8 173.73617842845815\n",
      "(5000,)\n",
      "compute cost for 9 197.31915132934316\n"
     ]
    },
    {
     "data": {
      "text/plain": [
       "(0.28762916516131876, 0.28762916516131876)"
      ]
     },
     "execution_count": 123,
     "metadata": {},
     "output_type": "execute_result"
    }
   ],
   "source": [
    "compute_costs_loop(Theta1, Theta2, num_labels, X, y_encode, lambda_=0.0)"
   ]
  },
  {
   "cell_type": "code",
   "execution_count": 72,
   "metadata": {},
   "outputs": [
    {
     "data": {
      "text/plain": [
       "(1438.1458258065945, 0.2876291651613189)"
      ]
     },
     "execution_count": 72,
     "metadata": {},
     "output_type": "execute_result"
    }
   ],
   "source": [
    "compute_costs_vectorized(Theta1, Theta2, num_labels, X, y_encode, lambda_=0.0)"
   ]
  },
  {
   "cell_type": "code",
   "execution_count": 110,
   "metadata": {},
   "outputs": [],
   "source": [
    "def compute_gradient(Theta1, Theta2, num_labels,X, y,lambda_): \n",
    "    m = X.shape[0] \n",
    "    Theta1_grad = np.zeros((Theta1.shape))\n",
    "    Theta2_grad = np.zeros((Theta2.shape))\n",
    "    a1, a2, a3 = forward_pass(Theta1, Theta2, X, y)\n",
    "#     for i in range(m):\n",
    "    for i in range(1):\n",
    "        a1i = a1[i,:] # 1 X 401\n",
    "        a2i = a2[i,:] # 1 X 26\n",
    "        a3i = a3[i,:] # 1 x 10\n",
    "        delta2 = a3i - y[i,:]\n",
    "\n",
    "        # Theta2.T @ d2.T is the 10 errors at layer 3 back propagated to layer 2\n",
    "        # sigmoidGradient(np.hstack((1,a1i @ Theta1.T))) is the gradient for each activation in layer 2\n",
    "        delta1 = Theta2.T @ delta2 * sigmoidGradient(np.hstack((1,a1i @ Theta1.T)))\n",
    "        \n",
    "        Theta1_grad= Theta1_grad + delta1[1:][:,np.newaxis] @ a1i[:,np.newaxis].T\n",
    "        Theta2_grad = Theta2_grad + delta2.T[:,np.newaxis] @ a2i[:,np.newaxis].T\n",
    "        \n",
    "    Theta1_grad = 1/m * Theta1_grad\n",
    "    Theta2_grad = 1/m*Theta2_grad\n",
    "    \n",
    "    Theta1_grad_reg = Theta1_grad + (lambda_/m) * np.hstack((np.zeros((Theta1.shape[0],1)),Theta1[:,1:]))\n",
    "    Theta2_grad_reg = Theta2_grad + (lambda_/m) * np.hstack((np.zeros((Theta2.shape[0],1)),Theta2[:,1:]))\n",
    "    grad = np.concatenate([Theta1_grad_reg.ravel(), Theta2_grad_reg.ravel()])\n",
    "\n",
    "    return grad"
   ]
  },
  {
   "cell_type": "code",
   "execution_count": 111,
   "metadata": {},
   "outputs": [
    {
     "name": "stdout",
     "output_type": "stream",
     "text": [
      "g is [0.19661193 0.04782555 0.07309204 0.00694906 0.24964942 0.20787312\n",
      " 0.00349239 0.01062254 0.0016299  0.00348869 0.01998466 0.06663376\n",
      " 0.02119201 0.04405998 0.04775892 0.00420003 0.10022623 0.00793126\n",
      " 0.08754214 0.12899417 0.16136511 0.02325683 0.01589205 0.02672678\n",
      " 0.05337726 0.09571899]\n"
     ]
    },
    {
     "data": {
      "text/plain": [
       "array([-5.12078395e-08,  0.00000000e+00,  0.00000000e+00, ...,\n",
       "        1.26052392e-06,  1.22281085e-06,  1.38964573e-07])"
      ]
     },
     "execution_count": 111,
     "metadata": {},
     "output_type": "execute_result"
    }
   ],
   "source": [
    "compute_gradient(Theta1, Theta2, num_labels,X, y_encode,lambda_=0.0)"
   ]
  },
  {
   "cell_type": "code",
   "execution_count": 599,
   "metadata": {},
   "outputs": [
    {
     "data": {
      "text/plain": [
       "-0.01757087838907182"
      ]
     },
     "execution_count": 599,
     "metadata": {},
     "output_type": "execute_result"
    }
   ],
   "source": [
    "\n",
    "# error is the 10 error values for each unit in layer 3\n",
    "error = np.array([-4.26598801e-03,1.12661530e-04,1.74127856e-03,2.52696959e-03\n",
    "                   ,1.84032321e-05,9.36263860e-03,3.99270267e-03,5.51517524e-03\n",
    "                   ,4.01468105e-04,6.48072305e-03])\n",
    "# wts is the 10 weights connecting the first unit in layer 2 to the 10 output units\n",
    "wts = np.array([-0.46089119,-0.76100352,-0.61785176,-0.68934072,-0.67832479,-0.59664339\n",
    "                ,-0.87794907,-0.52746527,-0.7490154,-0.6665468,])\n",
    "# error*wts is the error for first unit in layer2, which is basically a weighted sum of error passed from layer 3 \n",
    "np.sum(error*wts)\n",
    "\n",
    "# component 2:sigmoidGradient(np.hstack((1,a1i @ Theta1.T)))\n",
    "# this is basically the forward pass value z= singal @ weight befor applying sigmoid to get the acitvation value\n",
    "# for each unit in layer 2, use 400 pixel values time their correspoding weights to each unit, then apply sigmoid, use the sigmoid activation to times (1-sigmoid) to get the gradient for each unit.\n",
    "# then use this activation gradient to time the errors for each unit, which is the weighted sum of errors form layer3\n",
    "\n",
    "\n",
    "# compute the theta2_gradient\n",
    "# basically use the error times the activation. the error for the first unit in the output layer times each of th 26 activations to get the gradient for each weight corresponding to the first unit in the layer 3.\n",
    "# similarly idea for theta1 gradient, use delta1 times each activation in the input layer to get gradients.\n",
    "# we need to do this for all training examples. then calculate the average, use this to update the Theta1 and Theta2 (weights)\n"
   ]
  }
 ],
 "metadata": {
  "kernelspec": {
   "display_name": "Python 3",
   "language": "python",
   "name": "python3"
  },
  "language_info": {
   "codemirror_mode": {
    "name": "ipython",
    "version": 3
   },
   "file_extension": ".py",
   "mimetype": "text/x-python",
   "name": "python",
   "nbconvert_exporter": "python",
   "pygments_lexer": "ipython3",
   "version": "3.6.7"
  }
 },
 "nbformat": 4,
 "nbformat_minor": 2
}
