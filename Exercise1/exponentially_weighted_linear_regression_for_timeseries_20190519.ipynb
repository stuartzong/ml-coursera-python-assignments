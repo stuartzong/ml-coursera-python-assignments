{
 "cells": [
  {
   "cell_type": "markdown",
   "metadata": {},
   "source": [
    "this is my effort to try exponentially weighted linear regression model on time series data, eg. bitcoin real-time data\n",
    "\n",
    "http://stanford.edu/class/msande448/2016/final/group5.pdf\n",
    "exploit correlation\n",
    "\n",
    "http://citeseerx.ist.psu.edu/viewdoc/download?doi=10.1.1.640.8381&rep=rep1&type=pdf\n",
    "\n",
    "\n",
    "implementation:\n",
    "https://www.geeksforgeeks.org/ml-locally-weighted-linear-regression/\n"
   ]
  },
  {
   "cell_type": "markdown",
   "metadata": {},
   "source": [
    "### Machine Learning: Linear Regression with one variable\n",
    "\n",
    "Nothing is easier than a linear regression with only one variable. But the simplest model can be very helpful to understand what is going on during the model training process. This notebook was made while I taking Andrew Ng's machine learning course: [github repository](https://github.com/dibgerge/ml-coursera-python-assignments)."
   ]
  },
  {
   "cell_type": "code",
   "execution_count": 3,
   "metadata": {},
   "outputs": [],
   "source": [
    "# used for manipulating directory paths\n",
    "import os\n",
    "\n",
    "# Scientific and vector computation for python\n",
    "import numpy as np\n",
    "import pandas as pd\n",
    "# Plotting library\n",
    "import matplotlib.pyplot as plt\n",
    "from mpl_toolkits.mplot3d import Axes3D  # needed to plot 3-D surfaces\n",
    "\n",
    "# library written for this exercise providing additional functions for assignment submission, and others\n",
    "import utils \n",
    "# define the submission/grader object for this exercise\n",
    "grader = utils.Grader()\n",
    "\n",
    "%matplotlib inline\n",
    "\n",
    "from IPython.core.interactiveshell import InteractiveShell\n",
    "InteractiveShell.ast_node_interactivity = \"all\""
   ]
  },
  {
   "cell_type": "markdown",
   "metadata": {},
   "source": [
    "### Data\n",
    "The data has two columns. The first column is the population of a city (in 10,000s) and the second column is the profit of a food truck in that city (in $10,000s). A negative value for profit indicates a loss. We would like to build a linear regression model to predict the profit based on population. \n",
    "\n",
    "The model is simply as follow: $\\theta_0$ is the intercept term and $\\theta_1$ is the slope. Input x is the popuation and output $ h_\\theta(x)$ is the prediction.\n",
    "\n",
    "$$ h_\\theta(x) = \\theta^Tx = \\theta_0 + \\theta_1 x_1$$\n"
   ]
  },
  {
   "cell_type": "code",
   "execution_count": 50,
   "metadata": {},
   "outputs": [
    {
     "data": {
      "text/html": [
       "<div>\n",
       "<style scoped>\n",
       "    .dataframe tbody tr th:only-of-type {\n",
       "        vertical-align: middle;\n",
       "    }\n",
       "\n",
       "    .dataframe tbody tr th {\n",
       "        vertical-align: top;\n",
       "    }\n",
       "\n",
       "    .dataframe thead th {\n",
       "        text-align: right;\n",
       "    }\n",
       "</style>\n",
       "<table border=\"1\" class=\"dataframe\">\n",
       "  <thead>\n",
       "    <tr style=\"text-align: right;\">\n",
       "      <th></th>\n",
       "      <th>BTCUSD</th>\n",
       "      <th>DOGEUSD</th>\n",
       "      <th>LTCUSD</th>\n",
       "      <th>DASHUSD</th>\n",
       "      <th>ETHUSD</th>\n",
       "      <th>ZECUSD</th>\n",
       "      <th>ETCUSD</th>\n",
       "      <th>EOSUSD</th>\n",
       "      <th>NEOUSD</th>\n",
       "      <th>BTGUSD</th>\n",
       "      <th>XRPUSDT</th>\n",
       "      <th>TRXUSD</th>\n",
       "    </tr>\n",
       "    <tr>\n",
       "      <th>timestamp</th>\n",
       "      <th></th>\n",
       "      <th></th>\n",
       "      <th></th>\n",
       "      <th></th>\n",
       "      <th></th>\n",
       "      <th></th>\n",
       "      <th></th>\n",
       "      <th></th>\n",
       "      <th></th>\n",
       "      <th></th>\n",
       "      <th></th>\n",
       "      <th></th>\n",
       "    </tr>\n",
       "  </thead>\n",
       "  <tbody>\n",
       "    <tr>\n",
       "      <th>2019-05-18 19:35:00</th>\n",
       "      <td>7265.07</td>\n",
       "      <td>0.002927</td>\n",
       "      <td>87.2370</td>\n",
       "      <td>139.5874</td>\n",
       "      <td>236.310</td>\n",
       "      <td>72.4322</td>\n",
       "      <td>7.27010</td>\n",
       "      <td>5.89108</td>\n",
       "      <td>10.87930</td>\n",
       "      <td>20.80118</td>\n",
       "      <td>0.373746</td>\n",
       "      <td>0.026526</td>\n",
       "    </tr>\n",
       "    <tr>\n",
       "      <th>2019-05-18 19:36:00</th>\n",
       "      <td>7270.31</td>\n",
       "      <td>0.002928</td>\n",
       "      <td>87.2272</td>\n",
       "      <td>139.5874</td>\n",
       "      <td>236.469</td>\n",
       "      <td>72.4322</td>\n",
       "      <td>7.26339</td>\n",
       "      <td>5.89272</td>\n",
       "      <td>10.88388</td>\n",
       "      <td>20.80118</td>\n",
       "      <td>0.373880</td>\n",
       "      <td>0.026564</td>\n",
       "    </tr>\n",
       "    <tr>\n",
       "      <th>2019-05-18 19:37:00</th>\n",
       "      <td>7275.05</td>\n",
       "      <td>0.002925</td>\n",
       "      <td>87.2639</td>\n",
       "      <td>139.5881</td>\n",
       "      <td>236.641</td>\n",
       "      <td>72.4322</td>\n",
       "      <td>7.24586</td>\n",
       "      <td>5.89160</td>\n",
       "      <td>10.87263</td>\n",
       "      <td>20.80118</td>\n",
       "      <td>0.373965</td>\n",
       "      <td>0.026547</td>\n",
       "    </tr>\n",
       "    <tr>\n",
       "      <th>2019-05-18 19:38:00</th>\n",
       "      <td>7274.67</td>\n",
       "      <td>0.002927</td>\n",
       "      <td>87.2510</td>\n",
       "      <td>139.5881</td>\n",
       "      <td>236.452</td>\n",
       "      <td>72.4322</td>\n",
       "      <td>7.24123</td>\n",
       "      <td>5.89294</td>\n",
       "      <td>10.88407</td>\n",
       "      <td>20.80118</td>\n",
       "      <td>0.373799</td>\n",
       "      <td>0.026541</td>\n",
       "    </tr>\n",
       "    <tr>\n",
       "      <th>2019-05-18 19:39:00</th>\n",
       "      <td>7274.15</td>\n",
       "      <td>0.002924</td>\n",
       "      <td>87.2515</td>\n",
       "      <td>139.5462</td>\n",
       "      <td>236.169</td>\n",
       "      <td>72.4322</td>\n",
       "      <td>7.24480</td>\n",
       "      <td>5.89044</td>\n",
       "      <td>10.87674</td>\n",
       "      <td>20.80118</td>\n",
       "      <td>0.373651</td>\n",
       "      <td>0.026549</td>\n",
       "    </tr>\n",
       "  </tbody>\n",
       "</table>\n",
       "</div>"
      ],
      "text/plain": [
       "                      BTCUSD   DOGEUSD   LTCUSD   DASHUSD   ETHUSD   ZECUSD  \\\n",
       "timestamp                                                                     \n",
       "2019-05-18 19:35:00  7265.07  0.002927  87.2370  139.5874  236.310  72.4322   \n",
       "2019-05-18 19:36:00  7270.31  0.002928  87.2272  139.5874  236.469  72.4322   \n",
       "2019-05-18 19:37:00  7275.05  0.002925  87.2639  139.5881  236.641  72.4322   \n",
       "2019-05-18 19:38:00  7274.67  0.002927  87.2510  139.5881  236.452  72.4322   \n",
       "2019-05-18 19:39:00  7274.15  0.002924  87.2515  139.5462  236.169  72.4322   \n",
       "\n",
       "                      ETCUSD   EOSUSD    NEOUSD    BTGUSD   XRPUSDT    TRXUSD  \n",
       "timestamp                                                                      \n",
       "2019-05-18 19:35:00  7.27010  5.89108  10.87930  20.80118  0.373746  0.026526  \n",
       "2019-05-18 19:36:00  7.26339  5.89272  10.88388  20.80118  0.373880  0.026564  \n",
       "2019-05-18 19:37:00  7.24586  5.89160  10.87263  20.80118  0.373965  0.026547  \n",
       "2019-05-18 19:38:00  7.24123  5.89294  10.88407  20.80118  0.373799  0.026541  \n",
       "2019-05-18 19:39:00  7.24480  5.89044  10.87674  20.80118  0.373651  0.026549  "
      ]
     },
     "execution_count": 50,
     "metadata": {},
     "output_type": "execute_result"
    },
    {
     "data": {
      "text/plain": [
       "['BTCUSD',\n",
       " 'DOGEUSD',\n",
       " 'LTCUSD',\n",
       " 'DASHUSD',\n",
       " 'ETHUSD',\n",
       " 'ZECUSD',\n",
       " 'ETCUSD',\n",
       " 'EOSUSD',\n",
       " 'NEOUSD',\n",
       " 'BTGUSD',\n",
       " 'TRXUSD']"
      ]
     },
     "execution_count": 50,
     "metadata": {},
     "output_type": "execute_result"
    },
    {
     "data": {
      "text/plain": [
       "array([[7.265070e+03, 2.926920e-03, 8.723700e+01, 1.395874e+02,\n",
       "        2.363100e+02, 7.243220e+01, 7.270100e+00, 5.891080e+00,\n",
       "        1.087930e+01, 2.080118e+01, 2.652600e-02],\n",
       "       [7.270310e+03, 2.927810e-03, 8.722720e+01, 1.395874e+02,\n",
       "        2.364690e+02, 7.243220e+01, 7.263390e+00, 5.892720e+00,\n",
       "        1.088388e+01, 2.080118e+01, 2.656430e-02]])"
      ]
     },
     "execution_count": 50,
     "metadata": {},
     "output_type": "execute_result"
    },
    {
     "data": {
      "text/plain": [
       "array([0.373746, 0.37388 , 0.373965])"
      ]
     },
     "execution_count": 50,
     "metadata": {},
     "output_type": "execute_result"
    },
    {
     "data": {
      "text/plain": [
       "(400, 11)"
      ]
     },
     "execution_count": 50,
     "metadata": {},
     "output_type": "execute_result"
    }
   ],
   "source": [
    "f = 'price.txt'\n",
    "data = pd.read_csv(f, index_col='timestamp')\n",
    "# should be cautious when doing backward fill since the future price is unknown\n",
    "data = data.bfill()\n",
    "data.head()\n",
    "cols = data.columns.tolist()\n",
    "col2 = cols.remove('XRPUSDT')\n",
    "col2\n",
    "cols\n",
    "X = np.array(data[cols])\n",
    "X[:2]\n",
    "y = np.array(data['XRPUSDT'])\n",
    "y[:3]\n",
    "m, n = X.shape\n",
    "m, n"
   ]
  },
  {
   "cell_type": "markdown",
   "metadata": {},
   "source": [
    "#### Add in a column of ones to include intercept term as a feature\n",
    "\n",
    "we add another dimension to our data to accommodate the $\\theta_0$ intercept term. We can use either np.concatenate or np.stack."
   ]
  },
  {
   "cell_type": "code",
   "execution_count": 24,
   "metadata": {},
   "outputs": [
    {
     "data": {
      "text/plain": [
       "(400, 11)"
      ]
     },
     "execution_count": 24,
     "metadata": {},
     "output_type": "execute_result"
    },
    {
     "data": {
      "text/plain": [
       "array([[7.265070e+03, 2.926920e-03, 8.723700e+01, 1.395874e+02,\n",
       "        2.363100e+02, 7.243220e+01, 7.270100e+00, 5.891080e+00,\n",
       "        1.087930e+01, 2.080118e+01, 2.652600e-02],\n",
       "       [7.270310e+03, 2.927810e-03, 8.722720e+01, 1.395874e+02,\n",
       "        2.364690e+02, 7.243220e+01, 7.263390e+00, 5.892720e+00,\n",
       "        1.088388e+01, 2.080118e+01, 2.656430e-02]])"
      ]
     },
     "execution_count": 24,
     "metadata": {},
     "output_type": "execute_result"
    }
   ],
   "source": [
    "X.shape\n",
    "X[:2]"
   ]
  },
  {
   "cell_type": "code",
   "execution_count": 37,
   "metadata": {},
   "outputs": [
    {
     "data": {
      "text/plain": [
       "(400, 1)"
      ]
     },
     "execution_count": 37,
     "metadata": {},
     "output_type": "execute_result"
    },
    {
     "data": {
      "text/plain": [
       "(400, 11)"
      ]
     },
     "execution_count": 37,
     "metadata": {},
     "output_type": "execute_result"
    },
    {
     "data": {
      "text/plain": [
       "array([[1.000000e+00, 7.265070e+03, 2.926920e-03, ..., 1.087930e+01,\n",
       "        2.080118e+01, 2.652600e-02],\n",
       "       [1.000000e+00, 7.270310e+03, 2.927810e-03, ..., 1.088388e+01,\n",
       "        2.080118e+01, 2.656430e-02],\n",
       "       [1.000000e+00, 7.275050e+03, 2.924930e-03, ..., 1.087263e+01,\n",
       "        2.080118e+01, 2.654660e-02],\n",
       "       ...,\n",
       "       [1.000000e+00, 7.733300e+03, 3.061780e-03, ..., 1.123999e+01,\n",
       "        2.123406e+01, 2.754730e-02],\n",
       "       [1.000000e+00, 7.707800e+03, 3.061780e-03, ..., 1.121799e+01,\n",
       "        2.124287e+01, 2.747270e-02],\n",
       "       [1.000000e+00, 7.738980e+03, 3.061780e-03, ..., 1.123242e+01,\n",
       "        2.123991e+01, 2.750560e-02]])"
      ]
     },
     "execution_count": 37,
     "metadata": {},
     "output_type": "execute_result"
    }
   ],
   "source": [
    "np.ones(m)[:,None].shape\n",
    "X.shape\n",
    "a = np.ones(m)[:, None]\n",
    "np.concatenate([a, X], axis=1)"
   ]
  },
  {
   "cell_type": "code",
   "execution_count": 41,
   "metadata": {},
   "outputs": [],
   "source": [
    "# Add a column of ones to X. The numpy function stack joins arrays along a given axis. \n",
    "# The first axis (axis=0) refers to rows (training examples) \n",
    "# and second axis (axis=1) refers to columns (features).\n",
    "X = np.concatenate([np.ones(m)[:,None], X], axis=1)"
   ]
  },
  {
   "cell_type": "code",
   "execution_count": 42,
   "metadata": {},
   "outputs": [
    {
     "data": {
      "text/plain": [
       "array([[1.000000e+00, 7.265070e+03, 2.926920e-03, 8.723700e+01,\n",
       "        1.395874e+02, 2.363100e+02, 7.243220e+01, 7.270100e+00,\n",
       "        5.891080e+00, 1.087930e+01, 2.080118e+01, 2.652600e-02],\n",
       "       [1.000000e+00, 7.270310e+03, 2.927810e-03, 8.722720e+01,\n",
       "        1.395874e+02, 2.364690e+02, 7.243220e+01, 7.263390e+00,\n",
       "        5.892720e+00, 1.088388e+01, 2.080118e+01, 2.656430e-02]])"
      ]
     },
     "execution_count": 42,
     "metadata": {},
     "output_type": "execute_result"
    },
    {
     "data": {
      "text/plain": [
       "(400, 12)"
      ]
     },
     "execution_count": 42,
     "metadata": {},
     "output_type": "execute_result"
    }
   ],
   "source": [
    "X[:2]\n",
    "X.shape"
   ]
  },
  {
   "cell_type": "markdown",
   "metadata": {},
   "source": [
    "### weights exponentially decrease as time goes into the past"
   ]
  },
  {
   "cell_type": "code",
   "execution_count": 48,
   "metadata": {},
   "outputs": [
    {
     "data": {
      "text/plain": [
       "[1.0, 0.9, 0.81, 0.7290000000000001]"
      ]
     },
     "execution_count": 48,
     "metadata": {},
     "output_type": "execute_result"
    }
   ],
   "source": [
    "alpha = 0.9\n",
    "ts = 4\n",
    "# time_step = 1\n",
    "ws = [alpha ** (ts - t) for t in np.arange(ts, 0, -1)]\n",
    "ws"
   ]
  },
  {
   "cell_type": "code",
   "execution_count": 54,
   "metadata": {},
   "outputs": [
    {
     "data": {
      "text/plain": [
       "array([[0., 0., 0., ..., 0., 0., 0.],\n",
       "       [0., 0., 0., ..., 0., 0., 0.],\n",
       "       [0., 0., 0., ..., 0., 0., 0.],\n",
       "       ...,\n",
       "       [0., 0., 0., ..., 0., 0., 0.],\n",
       "       [0., 0., 0., ..., 0., 0., 0.],\n",
       "       [0., 0., 0., ..., 0., 0., 0.]])"
      ]
     },
     "execution_count": 54,
     "metadata": {},
     "output_type": "execute_result"
    }
   ],
   "source": [
    "W = np.zeros(m*m).reshape(m, m)\n",
    "W"
   ]
  },
  {
   "cell_type": "code",
   "execution_count": 66,
   "metadata": {},
   "outputs": [],
   "source": [
    "\n",
    "for i in range(m):\n",
    "    W[i, i] = alpha ** (i+1)"
   ]
  },
  {
   "cell_type": "code",
   "execution_count": 68,
   "metadata": {},
   "outputs": [
    {
     "data": {
      "text/plain": [
       "(400, 400)"
      ]
     },
     "execution_count": 68,
     "metadata": {},
     "output_type": "execute_result"
    },
    {
     "data": {
      "text/plain": [
       "(400, 11)"
      ]
     },
     "execution_count": 68,
     "metadata": {},
     "output_type": "execute_result"
    }
   ],
   "source": [
    "W.shape\n",
    "X.shape"
   ]
  },
  {
   "cell_type": "code",
   "execution_count": 69,
   "metadata": {},
   "outputs": [
    {
     "data": {
      "text/plain": [
       "array([[6.53856300e+03, 2.63422800e-03, 7.85133000e+01, ...,\n",
       "        9.79137000e+00, 1.87210620e+01, 2.38734000e-02],\n",
       "       [5.88895110e+03, 2.37152610e-03, 7.06540320e+01, ...,\n",
       "        8.81594280e+00, 1.68489558e+01, 2.15170830e-02],\n",
       "       [5.30351145e+03, 2.13227397e-03, 6.36153831e+01, ...,\n",
       "        7.92614727e+00, 1.51640602e+01, 1.93524714e-02],\n",
       "       ...,\n",
       "       [4.75207860e-15, 1.88145025e-21, 5.55606002e-17, ...,\n",
       "        6.90692407e-18, 1.30482358e-17, 1.69276938e-20],\n",
       "       [4.26276806e-15, 1.69330522e-21, 4.98889536e-17, ...,\n",
       "        6.20406465e-18, 1.17482846e-17, 1.51936672e-20],\n",
       "       [3.85201083e-15, 1.52397470e-21, 4.50013486e-17, ...,\n",
       "        5.59084059e-18, 1.05719828e-17, 1.36906762e-20]])"
      ]
     },
     "execution_count": 69,
     "metadata": {},
     "output_type": "execute_result"
    }
   ],
   "source": [
    "W @ X"
   ]
  },
  {
   "cell_type": "markdown",
   "metadata": {},
   "source": [
    "####  Computing the cost $J(\\theta)$\n",
    "The objective of linear regression is to minimize the cost function $J(\\theta)$. The cost function is just half of the average squared error for all training examples. \n",
    "$$ J(\\theta) = \\frac{1}{2m} \\sum_{i=1}^m \\left( h_{\\theta}(x^{(i)}) - y^{(i)}\\right)^2$$\n",
    "\n"
   ]
  },
  {
   "cell_type": "code",
   "execution_count": 10,
   "metadata": {},
   "outputs": [],
   "source": [
    "def computeCost(X, y, theta):      \n",
    "    # number of training examples\n",
    "    m = y.size  \n",
    "    J = 0\n",
    "    J = (np.sum((X @ theta - y)**2))/2/m\n",
    "    return J"
   ]
  },
  {
   "cell_type": "markdown",
   "metadata": {},
   "source": [
    "#### Different theta gives different cost for the data\n",
    "\n",
    "Once you have completed the function, the next step will run `computeCost` two times using two different initializations of $\\theta$. You will see the cost printed to the screen."
   ]
  },
  {
   "cell_type": "code",
   "execution_count": 11,
   "metadata": {},
   "outputs": [
    {
     "name": "stdout",
     "output_type": "stream",
     "text": [
      "With theta = [0, 0] \n",
      "Cost computed = 32.07\n",
      "With theta = [-1, 2]\n",
      "Cost computed = 54.24\n"
     ]
    }
   ],
   "source": [
    "J = computeCost(X, y, theta=np.array([0.0, 0.0]))\n",
    "print('With theta = [0, 0] \\nCost computed = %.2f' % J)\n",
    "\n",
    "# further testing of the cost function\n",
    "J = computeCost(X, y, theta=np.array([-1, 2]))\n",
    "print('With theta = [-1, 2]\\nCost computed = %.2f' % J)"
   ]
  },
  {
   "cell_type": "markdown",
   "metadata": {},
   "source": [
    "#### Implement gradient descent algorithm\n",
    "\n",
    "Implements gradient descent to minimize cost function by updating Theta for all training examples or a mini batch of them. We update $\\theta_j$ values through many iterations in order to minimize cost $J(\\theta)$. Low cost means the model is accurate in predicting the profit given the number of population in a city. Here, we apply batch gradient descent. For each iteration, we update the $\\theta$ once. With each step of gradient descent, your parameters $\\theta_j$ come closer to the optimal values that will achieve the lowest cost J($\\theta$). Note that the gradient is the partial derivatives of cost function in term of theta. If we plot the cost, we should see it decrease over iterations.\n",
    "\n",
    "$$ \\theta_j = \\theta_j - \\alpha \\frac{1}{m} \\sum_{i=1}^m \\left( h_\\theta(x^{(i)}) - y^{(i)}\\right)x_j^{(i)} \\qquad \\text{simultaneously update } \\theta_j \\text{ for all } j$$\n",
    "\n",
    "\n",
    " "
   ]
  },
  {
   "cell_type": "code",
   "execution_count": 99,
   "metadata": {},
   "outputs": [],
   "source": [
    "def gradientDescent(X, y, theta, alpha, num_iters):   \n",
    "    m = y.shape[0]  # number of training examples\n",
    "    theta = theta.copy()\n",
    "    J_history = [] \n",
    "    theta_history = []\n",
    "    for i in range(num_iters):        \n",
    "        # must update thetas simultaneously\n",
    "        theta_tmp = []    \n",
    "        for j in range(len(theta)): # partial derivative \n",
    "            gradient = (alpha/m) * np.sum(((X @ theta) - y) * X[:,j])\n",
    "            new_theta = theta[j] - gradient\n",
    "            theta_tmp.append(new_theta)        \n",
    "        theta = theta_tmp\n",
    "        theta_history.append(theta_tmp)\n",
    "        J_history.append(computeCost(X, y, theta))\n",
    "    # add in the intial theta and cost\n",
    "    theta_history = [init_theta.tolist()] + theta_history\n",
    "    J_history = [computeCost(X, y, init_theta)] + J_history\n",
    "    return theta, J_history, theta_history"
   ]
  },
  {
   "cell_type": "markdown",
   "metadata": {},
   "source": [
    "### vectorized implementation of gradient descent"
   ]
  },
  {
   "cell_type": "code",
   "execution_count": 100,
   "metadata": {},
   "outputs": [],
   "source": [
    "def gradient_descent_vectorized(X, y, theta, alpha, num_iters):   \n",
    "    m = y.shape[0]  # number of training examples\n",
    "    theta = theta.copy()\n",
    "    for i in range(num_iters):    \n",
    "        # vectorized implementation\n",
    "        gradients = (alpha/m) * ((X @ theta) - y) @ X\n",
    "        theta -= gradients  \n",
    "    return theta"
   ]
  },
  {
   "cell_type": "markdown",
   "metadata": {},
   "source": [
    "### Perform gradient descent to learn Theta by minimizing the cost function: $J(\\theta)$"
   ]
  },
  {
   "cell_type": "code",
   "execution_count": 101,
   "metadata": {},
   "outputs": [
    {
     "name": "stdout",
     "output_type": "stream",
     "text": [
      "Theta found by gradient descent: -3.8577, 1.1892\n",
      "Expected theta values (approximately): [-3.6303, 1.1664]\n"
     ]
    },
    {
     "data": {
      "text/plain": [
       "[[5, 4],\n",
       " [4.681999350515464, 0.9891407845730922],\n",
       " [4.612858797786178, 0.4551879003217243]]"
      ]
     },
     "execution_count": 101,
     "metadata": {},
     "output_type": "execute_result"
    }
   ],
   "source": [
    "# initialize fitting parameters\n",
    "# theta = np.zeros(2)\n",
    "# theta = np.ones(2)\n",
    "init_theta = np.array([5, 4])\n",
    "# some gradient descent settings\n",
    "iterations = 3000\n",
    "alpha = 0.01\n",
    "\n",
    "theta, J_history, theta_history = gradientDescent(X ,y, init_theta, alpha, iterations)\n",
    "print('Theta found by gradient descent: {:.4f}, {:.4f}'.format(*theta))\n",
    "print('Expected theta values (approximately): [-3.6303, 1.1664]')\n",
    "theta_history[:3]"
   ]
  },
  {
   "cell_type": "markdown",
   "metadata": {},
   "source": [
    "#### Cost should continuously decrease\n",
    "During the training, the theta gets udpated for each iteration. The cost should keep going down until convergence."
   ]
  },
  {
   "cell_type": "code",
   "execution_count": 111,
   "metadata": {},
   "outputs": [
    {
     "data": {
      "text/plain": [
       "[<matplotlib.lines.Line2D at 0x7fb7cbbef390>]"
      ]
     },
     "execution_count": 111,
     "metadata": {},
     "output_type": "execute_result"
    },
    {
     "data": {
      "image/png": "[encoded data removed]",
      "text/plain": [
       "<Figure size 432x288 with 1 Axes>"
      ]
     },
     "metadata": {},
     "output_type": "display_data"
    }
   ],
   "source": [
    "plt.plot(J_history[1:])\n",
    "plt.savefig('cost_decrease.png', bbox_inches='tight',dpi=300)"
   ]
  },
  {
   "cell_type": "markdown",
   "metadata": {},
   "source": [
    "#### How theta changes over training iterations\n",
    "Depending on the intial values, theta should gradually find its way to the optimal values. For some intial values, it may takes many more iterations to reach the optimal Theta values."
   ]
  },
  {
   "cell_type": "code",
   "execution_count": 110,
   "metadata": {},
   "outputs": [
    {
     "data": {
      "text/plain": [
       "[<matplotlib.lines.Line2D at 0x7fb7cc013668>]"
      ]
     },
     "execution_count": 110,
     "metadata": {},
     "output_type": "execute_result"
    },
    {
     "data": {
      "text/plain": [
       "[<matplotlib.lines.Line2D at 0x7fb7cc0ea7f0>]"
      ]
     },
     "execution_count": 110,
     "metadata": {},
     "output_type": "execute_result"
    },
    {
     "data": {
      "text/plain": [
       "<matplotlib.legend.Legend at 0x7fb7cc054f98>"
      ]
     },
     "execution_count": 110,
     "metadata": {},
     "output_type": "execute_result"
    },
    {
     "data": {
      "image/png": "[encoded data removed]",
      "text/plain": [
       "<Figure size 432x288 with 1 Axes>"
      ]
     },
     "metadata": {},
     "output_type": "display_data"
    }
   ],
   "source": [
    "plt.plot(np.array(theta_history)[:,0], c='red', label='Theta0')\n",
    "plt.plot(np.array(theta_history)[:,1], c='blue', label='Theta1')\n",
    "plt.legend()\n",
    "plt.savefig('theta_changes.png', bbox_inches='tight',dpi=300)"
   ]
  },
  {
   "cell_type": "markdown",
   "metadata": {},
   "source": [
    "#### How the linear model fits the training data?\n",
    "Visually, it fits the data pretty well. Of course, as expected, you will see some outliers, which is common in any data set. there are always noises and outliers in real life data."
   ]
  },
  {
   "cell_type": "code",
   "execution_count": 109,
   "metadata": {},
   "outputs": [
    {
     "data": {
      "text/plain": [
       "[<matplotlib.lines.Line2D at 0x7fb7cbc8ddd8>]"
      ]
     },
     "execution_count": 109,
     "metadata": {},
     "output_type": "execute_result"
    },
    {
     "data": {
      "text/plain": [
       "[<matplotlib.lines.Line2D at 0x7fb7cbc9c4a8>]"
      ]
     },
     "execution_count": 109,
     "metadata": {},
     "output_type": "execute_result"
    },
    {
     "data": {
      "text/plain": [
       "<matplotlib.legend.Legend at 0x7fb7cbc9c320>"
      ]
     },
     "execution_count": 109,
     "metadata": {},
     "output_type": "execute_result"
    },
    {
     "data": {
      "image/png": "[encoded data removed]",
      "text/plain": [
       "<Figure size 432x288 with 1 Axes>"
      ]
     },
     "metadata": {},
     "output_type": "display_data"
    }
   ],
   "source": [
    "plt.plot(X[:, 1], y, 'r.')\n",
    "plt.plot(X[:, 1], np.dot(X, theta), '-')\n",
    "plt.legend(['Training data', 'Linear regression']);\n",
    "plt.savefig('data_fit.png', bbox_inches='tight',dpi=300)"
   ]
  },
  {
   "cell_type": "markdown",
   "metadata": {},
   "source": [
    "### Use the model to predict profit based on population of a city\n",
    "Now, we learned the Theta, and demonstrated it seems a good fit to the training data. Therefore, we could use the learned parameters to make new predictions"
   ]
  },
  {
   "cell_type": "code",
   "execution_count": 105,
   "metadata": {},
   "outputs": [
    {
     "name": "stdout",
     "output_type": "stream",
     "text": [
      "For population = 35,000, we predict a profit of 3044.96\n",
      "\n",
      "For population = 70,000, we predict a profit of 44667.41\n",
      "\n"
     ]
    }
   ],
   "source": [
    "# Predict values for population sizes of 35,000 and 70,000\n",
    "predict1 = np.dot([1, 3.5], theta)\n",
    "print('For population = 35,000, we predict a profit of {:.2f}\\n'.format(predict1*10000))\n",
    "\n",
    "predict2 = np.dot([1, 7], theta)\n",
    "print('For population = 70,000, we predict a profit of {:.2f}\\n'.format(predict2*10000))"
   ]
  },
  {
   "cell_type": "code",
   "execution_count": 106,
   "metadata": {},
   "outputs": [
    {
     "data": {
      "text/plain": [
       "array([17.592 ,  9.1302, 13.662 , 11.854 ,  6.8233])"
      ]
     },
     "execution_count": 106,
     "metadata": {},
     "output_type": "execute_result"
    },
    {
     "data": {
      "text/plain": [
       "array([[1.    , 6.1101],\n",
       "       [1.    , 5.5277],\n",
       "       [1.    , 8.5186],\n",
       "       [1.    , 7.0032],\n",
       "       [1.    , 5.8598]])"
      ]
     },
     "execution_count": 106,
     "metadata": {},
     "output_type": "execute_result"
    }
   ],
   "source": [
    "y[:5]\n",
    "X[:5]"
   ]
  },
  {
   "cell_type": "markdown",
   "metadata": {},
   "source": [
    "### 2.4 Visualizing $J(\\theta)$ and Gradient Descent\n",
    "\n",
    "The cost function $J(\\theta)$ is bowl-shaped and has a global minimum. The 3D surface plot and contour plot show how the gradient descent works. Through minimizing the cost function $J(\\theta)$, the $\\theta$ gets updated each iteration of training. The red downward triangles show $\\theta$ moving closer toward its optimal values, where the cost function also reaches its golbal minimum. \n",
    "\n",
    "This also shows that $\\theta$ takes dramatical steps toward its optimal and then takes tiny steps as the gradients become much smaller as it approaches the optimal. "
   ]
  },
  {
   "cell_type": "code",
   "execution_count": null,
   "metadata": {},
   "outputs": [],
   "source": []
  },
  {
   "cell_type": "code",
   "execution_count": 107,
   "metadata": {},
   "outputs": [
    {
     "data": {
      "text/plain": [
       "<mpl_toolkits.mplot3d.art3d.Poly3DCollection at 0x7fb7cbcd6e48>"
      ]
     },
     "execution_count": 107,
     "metadata": {},
     "output_type": "execute_result"
    },
    {
     "data": {
      "image/png": "[encoded data removed]",
      "text/plain": [
       "<Figure size 864x360 with 2 Axes>"
      ]
     },
     "metadata": {},
     "output_type": "display_data"
    }
   ],
   "source": [
    "# grid over which we will calculate J\n",
    "theta0_vals = np.linspace(-10, 10, 100)\n",
    "theta1_vals = np.linspace(-1, 4, 100)\n",
    "\n",
    "# initialize J_vals to a matrix of 0's\n",
    "J_vals = np.zeros((theta0_vals.shape[0], theta1_vals.shape[0]))\n",
    "\n",
    "# Fill out J_vals\n",
    "for i, theta0 in enumerate(theta0_vals):\n",
    "    for j, theta1 in enumerate(theta1_vals):\n",
    "        J_vals[i, j] = computeCost(X, y, [theta0, theta1])\n",
    "        \n",
    "# Because of the way meshgrids work in the surf command, we need to\n",
    "# transpose J_vals before calling surf, or else the axes will be flipped\n",
    "J_vals = J_vals.T\n",
    "\n",
    "# surface plot\n",
    "fig = plt.figure(figsize=(12, 5))\n",
    "ax = fig.add_subplot(121, projection='3d')\n",
    "\n",
    "\n",
    "ax.plot_surface(theta0_vals, theta1_vals, J_vals, cmap='viridis', alpha=.5)\n",
    "\n",
    "# plot how theta descent to optimal value, switch theta0 and theta1 to match the surface plot above\n",
    "_ =ax.scatter(np.array(theta_history)[:,0], np.array(theta_history)[:,1], np.array(J_history), marker='v', c='red', s=3)\n",
    "\n",
    "\n",
    "_ =plt.xlabel('theta0')\n",
    "_ =plt.ylabel('theta1')\n",
    "_ =plt.title('Surface')\n",
    "\n",
    "# contour plot\n",
    "# Plot J_vals as 15 contours spaced logarithmically between 0.01 and 100\n",
    "ax = plt.subplot(122)\n",
    "_ =plt.contour(theta0_vals, theta1_vals, J_vals, linewidths=2, cmap='viridis', levels=np.logspace(-2, 3, 20))\n",
    "# plot how theta descent to optimal value\n",
    "_ =ax.scatter(np.array(theta_history)[:,0], np.array(theta_history)[:,1],marker='v', c='red', s=3)\n",
    "\n",
    "_ =plt.xlabel('theta0')\n",
    "_ =plt.ylabel('theta1')\n",
    "_ =plt.plot(theta[0], theta[1], 'ro', ms=10, lw=2)\n",
    "_ =plt.title('Contour, showing minimum')\n",
    "\n",
    "plt.savefig('gradient_descent_in_working.png', bbox_inches='tight',dpi=300)"
   ]
  },
  {
   "cell_type": "markdown",
   "metadata": {},
   "source": [
    "### Extra, i would like to try Newton's method to see if indeed it will arrive to theta in just one iteration regardless what initial theta is chosen"
   ]
  },
  {
   "cell_type": "markdown",
   "metadata": {},
   "source": [
    " This is Newton's method theta update rule: \n",
    " \n",
    " $θ = θ - H^{-1}∇_θJ(θ)$\n",
    " $θ^⋆ = (X^T X)^{−1}X^Ty$"
   ]
  },
  {
   "cell_type": "code",
   "execution_count": 7,
   "metadata": {},
   "outputs": [
    {
     "data": {
      "text/plain": [
       "(97, 2)"
      ]
     },
     "execution_count": 7,
     "metadata": {},
     "output_type": "execute_result"
    },
    {
     "data": {
      "text/plain": [
       "array([[1.    , 6.1101],\n",
       "       [1.    , 5.5277]])"
      ]
     },
     "execution_count": 7,
     "metadata": {},
     "output_type": "execute_result"
    },
    {
     "data": {
      "text/plain": [
       "(97,)"
      ]
     },
     "execution_count": 7,
     "metadata": {},
     "output_type": "execute_result"
    },
    {
     "data": {
      "text/plain": [
       "array([17.592 ,  9.1302])"
      ]
     },
     "execution_count": 7,
     "metadata": {},
     "output_type": "execute_result"
    }
   ],
   "source": [
    "X.shape\n",
    "X[:2]\n",
    "y.shape\n",
    "y[:2]"
   ]
  },
  {
   "cell_type": "markdown",
   "metadata": {},
   "source": [
    "Theta found by gradient descent: -3.8577, 1.1892\n",
    "Expected theta values (approximately): [-3.6303, 1.1664]"
   ]
  },
  {
   "cell_type": "code",
   "execution_count": 14,
   "metadata": {},
   "outputs": [
    {
     "data": {
      "text/plain": [
       "array([-3.89578088,  1.19303364])"
      ]
     },
     "execution_count": 14,
     "metadata": {},
     "output_type": "execute_result"
    }
   ],
   "source": []
  },
  {
   "cell_type": "code",
   "execution_count": null,
   "metadata": {},
   "outputs": [],
   "source": []
  },
  {
   "cell_type": "code",
   "execution_count": null,
   "metadata": {},
   "outputs": [],
   "source": []
  },
  {
   "cell_type": "code",
   "execution_count": null,
   "metadata": {},
   "outputs": [],
   "source": []
  }
 ],
 "metadata": {
  "kernelspec": {
   "display_name": "Python 3",
   "language": "python",
   "name": "python3"
  },
  "language_info": {
   "codemirror_mode": {
    "name": "ipython",
    "version": 3
   },
   "file_extension": ".py",
   "mimetype": "text/x-python",
   "name": "python",
   "nbconvert_exporter": "python",
   "pygments_lexer": "ipython3",
   "version": "3.6.7"
  }
 },
 "nbformat": 4,
 "nbformat_minor": 2
}
